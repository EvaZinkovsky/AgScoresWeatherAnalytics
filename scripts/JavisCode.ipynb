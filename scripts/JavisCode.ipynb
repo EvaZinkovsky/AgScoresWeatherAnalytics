{
 "cells": [
  {
   "cell_type": "code",
   "execution_count": null,
   "metadata": {},
   "outputs": [],
   "source": [
    "# %load stat_metrics_compare_ensemble_and_SILO.py\n",
    "\"\"\"\n",
    "Created on Tue Apr 23 14:12:09 2019\n",
    "\n",
    "@author: nav00a\n",
    "\"\"\"\n",
    "\n",
    "# xarray opens the netcdf file\n",
    "import xarray as xr\n",
    "import requests\n",
    "import io\n",
    "import pandas as pd\n",
    "from plotnine import *\n",
    "import datetime\n",
    "\n",
    "nc = xr.open_dataset(\"../data/ensemble_siloaccess_s.nc\")\n",
    "# type nc in the console to see a summary of the object incl. attributes, dimensions and variables\n",
    "\n",
    "# Interesting behaviour from xarray: if we define a variable with name \"days\" and units \"days since Jan 1st 1970\",\n",
    "# it automatically reads it in as a datetime object!! It won't do it otherwise, but since this is what we want,\n",
    "# we just go with it.\n",
    "\n",
    "# Get some properties (attributes) from the netcdf file\n",
    "# Attributes are values that the creator of the file has provided as a sort of header\n",
    "start_month = nc.attrs[\"hindcast_start_month\"]\n",
    "lon = nc.attrs[\"longitude\"]\n",
    "lat = nc.attrs[\"latitude\"]\n",
    "\n",
    "# Get time bounds properties of the .nc file, which aren't declared attributes\n",
    "minyear = int(min(nc.year))\n",
    "maxyear = int(max(nc.year))\n",
    "\n",
    "# Now we convert the imported netcdf object to a pandas dataframe\n",
    "ensemble_df = nc.to_dataframe().reset_index()\n",
    "# Can't remember why I convert date to a string, but it was needed for grouping I think (won't work well with a datetime object)\n",
    "# We also create a \"date\" column, because it makes more sense than a \"days\" column formatted as a date\n",
    "# A \"date\" column also plays along nicely with the SILO dataset\n",
    "ensemble_df[\"date\"] = ensemble_df[\"days\"].astype(str)\n",
    "# Delete \"days\" column\n",
    "ensemble_df = ensemble_df.drop(columns=\"days\")\n",
    "\n",
    "\n",
    "# Get SILO data to compare ensemble with it\n",
    "\n",
    "# Set SILO url download link (specifying csv format)\n",
    "silourl = \"https://dcdp.research.csiro.au/silogrid?lat=\"+ str(lat)  +\"&lon=\" + str(lon) +\" &format=csv&start=\" + str(minyear) +\"0101&stop=\" + str(maxyear) +\"1231\"\n",
    "# Download SILO data\n",
    "httpreq = requests.get(silourl, verify=False)\n",
    "\n",
    "# Use the StringIO function to interpret the csv-like object as if it was saved to disk, then read_csv into pandas\n",
    "silo_df = pd.read_csv(io.StringIO(httpreq.content.decode('utf-8')))\n",
    "# This is to remove the header row\n",
    "silo_df = silo_df.iloc[1:]\n",
    "# Set columns to correct format\n",
    "silo_df[\"date\"] = silo_df[\"date\"].astype(str)\n",
    "silo_df[\"rad\"] = silo_df[\"rad\"].astype(float)\n",
    "silo_df[\"tmax\"] = silo_df[\"tmax\"].astype(float)\n",
    "silo_df[\"tmin\"] = silo_df[\"tmin\"].astype(float)\n",
    "silo_df[\"rain\"] = silo_df[\"rain\"].astype(float)\n",
    "silo_df[\"vp\"] = silo_df[\"vp\"].astype(float)\n",
    "silo_df[\"evap\"] = silo_df[\"evap\"].astype(float)\n",
    "\n",
    "\n",
    "# Compare ensemble and SILO\n",
    "\n",
    "# We calculate the mean of the ensemble as this is what we want to evaluate\n",
    "ensemble_df_mean = ensemble_df.groupby([\"date\"]).mean().reset_index()\n",
    "\n",
    "# ANALYSIS \n",
    "\n",
    "# Plot using ggplot2 for python (plotnine). Currently not too pretty, need to find how to mend the looks\n",
    "(ggplot(ensemble_df_mean.where(ensemble_df_mean[\"rain\"]>0.1))+\n",
    "  geom_density(mapping= aes(x = \"rain\"), color=\"red\", size=1) +\n",
    "  geom_density(data=silo_df.where(silo_df[\"rain\"]>0.1), mapping= aes(x = \"rain\"), color=\"white\", size=1, linetype='dotted') +\n",
    "  theme_minimal()+\n",
    "  coord_cartesian(xlim =(0, 20))\n",
    "  )\n",
    "\n",
    "# Calculate ensemble performance metrics (based on http://www.cawcr.gov.au/projects/verification/)\n",
    "# We won't use correlation as we're not interested in predicting daily weather but the actual pattern of climate\n",
    "fcast_vs_obs = ensemble_df_mean.merge(silo_df, on= 'date')\n",
    "\n",
    "fcast_vs_obs.rename(columns = {\"date\":\"date\", \"ens\":\"ens\", \"rad_x\":\"rad.fcast\",\"tmax_x\":\"tmax.fcast\",\"rain_x\":\"rain.fcast\",\"tmin_x\":\"tmin.fcast\",\"rad_y\":\"rad.obs\",\"tmax_y\":\"tmax.obs\",\"tmin_y\":\"tmin.obs\",\"rain_y\":\"rain.obs\",\"vp\":\"vp.obs\",\"evap\":\"evap.obs\"}, inplace=True)\n",
    "\n",
    "# Mean error - Answers the question: What is the average forecast error?\n",
    "# We don't really want this for AgScore but it's informative\n",
    "fcast_vs_obs[\"error\"] = fcast_vs_obs[\"rain.fcast\"] - fcast_vs_obs[\"rain.obs\"]\n",
    "mean_error = fcast_vs_obs[\"error\"].mean()\n",
    "print (mean_error)\n",
    "\n",
    "# Multiplicative bias - Answers the question: How does the average forecast magnitude compare to the average observed magnitude?\n",
    "# Bias = mean of forecast divided by mean of observations\n",
    "bias = fcast_vs_obs[\"rain.fcast\"].mean() / fcast_vs_obs[\"rain.obs\"].mean()\n",
    "print (bias)\n",
    "\n",
    "# Next, we need more metrics...\n",
    "\n",
    "\n",
    "\n",
    "\n"
   ]
  },
  {
   "cell_type": "code",
   "execution_count": 1,
   "metadata": {},
   "outputs": [],
   "source": [
    "# %load stat_metrics_compare_ensemble_and_SILO.py\n",
    "\"\"\"\n",
    "Created on Tue Apr 23 14:12:09 2019\n",
    "\n",
    "@author: nav00a\n",
    "\"\"\"\n",
    "\n",
    "# xarray opens the netcdf file\n",
    "import xarray as xr\n",
    "import requests\n",
    "import io\n",
    "import pandas as pd\n",
    "from plotnine import *\n",
    "import datetime\n",
    "\n",
    "nc = xr.open_dataset(\"../data/ensemble_siloaccess_s.nc\")"
   ]
  },
  {
   "cell_type": "code",
   "execution_count": 2,
   "metadata": {},
   "outputs": [],
   "source": [
    "# type nc in the console to see a summary of the object incl. attributes, dimensions and variables\n",
    "\n",
    "# Interesting behaviour from xarray: if we define a variable with name \"days\" and units \"days since Jan 1st 1970\",\n",
    "# it automatically reads it in as a datetime object!! It won't do it otherwise, but since this is what we want,\n",
    "# we just go with it.\n",
    "\n",
    "# Get some properties (attributes) from the netcdf file\n",
    "# Attributes are values that the creator of the file has provided as a sort of header\n",
    "start_month = nc.attrs[\"hindcast_start_month\"]\n",
    "lon = nc.attrs[\"longitude\"]\n",
    "lat = nc.attrs[\"latitude\"]"
   ]
  },
  {
   "cell_type": "code",
   "execution_count": 3,
   "metadata": {},
   "outputs": [],
   "source": [
    "# Get time bounds properties of the .nc file, which aren't declared attributes\n",
    "minyear = int(min(nc.year))\n",
    "maxyear = int(max(nc.year))"
   ]
  },
  {
   "cell_type": "code",
   "execution_count": 4,
   "metadata": {},
   "outputs": [],
   "source": [
    "# Now we convert the imported netcdf object to a pandas dataframe\n",
    "ensemble_df = nc.to_dataframe().reset_index()"
   ]
  },
  {
   "cell_type": "code",
   "execution_count": 5,
   "metadata": {},
   "outputs": [],
   "source": [
    "# Can't remember why I convert date to a string, but it was needed for grouping I think (won't work well with a datetime object)\n",
    "# We also create a \"date\" column, because it makes more sense than a \"days\" column formatted as a date\n",
    "# A \"date\" column also plays along nicely with the SILO dataset\n",
    "ensemble_df[\"date\"] = ensemble_df[\"days\"].astype(str)"
   ]
  },
  {
   "cell_type": "code",
   "execution_count": 6,
   "metadata": {},
   "outputs": [],
   "source": [
    "# Delete \"days\" column\n",
    "ensemble_df = ensemble_df.drop(columns=\"days\")"
   ]
  },
  {
   "cell_type": "code",
   "execution_count": 7,
   "metadata": {},
   "outputs": [],
   "source": [
    "# Get SILO data to compare ensemble with it\n",
    "\n",
    "# Set SILO url download link (specifying csv format)\n",
    "silourl = \"https://dcdp.research.csiro.au/silogrid?lat=\"+ str(lat)  +\"&lon=\" + str(lon) +\" &format=csv&start=\" + str(minyear) +\"0101&stop=\" + str(maxyear) +\"1231\""
   ]
  },
  {
   "cell_type": "code",
   "execution_count": 8,
   "metadata": {},
   "outputs": [
    {
     "name": "stderr",
     "output_type": "stream",
     "text": [
      "C:\\Users\\zin005\\AppData\\Local\\Continuum\\anaconda3\\lib\\site-packages\\urllib3\\connectionpool.py:847: InsecureRequestWarning: Unverified HTTPS request is being made. Adding certificate verification is strongly advised. See: https://urllib3.readthedocs.io/en/latest/advanced-usage.html#ssl-warnings\n",
      "  InsecureRequestWarning)\n"
     ]
    }
   ],
   "source": [
    "# Download SILO data\n",
    "httpreq = requests.get(silourl, verify=False)"
   ]
  },
  {
   "cell_type": "code",
   "execution_count": 9,
   "metadata": {},
   "outputs": [],
   "source": [
    "# Use the StringIO function to interpret the csv-like object as if it was saved to disk, then read_csv into pandas\n",
    "silo_df = pd.read_csv(io.StringIO(httpreq.content.decode('utf-8')))"
   ]
  },
  {
   "cell_type": "code",
   "execution_count": 10,
   "metadata": {},
   "outputs": [],
   "source": [
    "# This is to remove the header row\n",
    "silo_df = silo_df.iloc[1:]"
   ]
  },
  {
   "cell_type": "code",
   "execution_count": 11,
   "metadata": {},
   "outputs": [],
   "source": [
    "# Set columns to correct format\n",
    "silo_df[\"date\"] = silo_df[\"date\"].astype(str)\n",
    "silo_df[\"rad\"] = silo_df[\"rad\"].astype(float)\n",
    "silo_df[\"tmax\"] = silo_df[\"tmax\"].astype(float)\n",
    "silo_df[\"tmin\"] = silo_df[\"tmin\"].astype(float)\n",
    "silo_df[\"rain\"] = silo_df[\"rain\"].astype(float)\n",
    "silo_df[\"vp\"] = silo_df[\"vp\"].astype(float)\n",
    "silo_df[\"evap\"] = silo_df[\"evap\"].astype(float)"
   ]
  },
  {
   "cell_type": "code",
   "execution_count": 12,
   "metadata": {},
   "outputs": [],
   "source": [
    "# Compare ensemble and SILO\n",
    "\n",
    "# We calculate the mean of the ensemble as this is what we want to evaluate\n",
    "ensemble_df_mean = ensemble_df.groupby([\"date\"]).mean().reset_index()"
   ]
  },
  {
   "cell_type": "code",
   "execution_count": 13,
   "metadata": {},
   "outputs": [
    {
     "name": "stderr",
     "output_type": "stream",
     "text": [
      "C:\\Users\\zin005\\AppData\\Local\\Continuum\\anaconda3\\lib\\site-packages\\plotnine\\layer.py:360: UserWarning: stat_density : Removed 613 rows containing non-finite values.\n",
      "  data = self.stat.compute_layer(data, params, layout)\n",
      "C:\\Users\\zin005\\AppData\\Local\\Continuum\\anaconda3\\lib\\site-packages\\plotnine\\layer.py:360: UserWarning: stat_density : Removed 6642 rows containing non-finite values.\n",
      "  data = self.stat.compute_layer(data, params, layout)\n"
     ]
    },
    {
     "data": {
      "image/png": "[encoded data removed]",
      "text/plain": [
       "<Figure size 640x480 with 1 Axes>"
      ]
     },
     "metadata": {
      "needs_background": "light"
     },
     "output_type": "display_data"
    },
    {
     "data": {
      "text/plain": [
       "<ggplot: (-9223371900113943790)>"
      ]
     },
     "execution_count": 13,
     "metadata": {},
     "output_type": "execute_result"
    }
   ],
   "source": [
    "# ANALYSIS \n",
    "\n",
    "# Plot using ggplot2 for python (plotnine). Currently not too pretty, need to find how to mend the looks\n",
    "(ggplot(ensemble_df_mean.where(ensemble_df_mean[\"rain\"]>0.1))+\n",
    "  geom_density(mapping= aes(x = \"rain\"), color=\"red\", size=1) +\n",
    "  geom_density(data=silo_df.where(silo_df[\"rain\"]>0.1), mapping= aes(x = \"rain\"), color=\"white\", size=1, linetype='dotted') +\n",
    "  theme_minimal()+\n",
    "  coord_cartesian(xlim =(0, 20))\n",
    "  )"
   ]
  },
  {
   "cell_type": "code",
   "execution_count": 14,
   "metadata": {},
   "outputs": [],
   "source": [
    "# Calculate ensemble performance metrics (based on http://www.cawcr.gov.au/projects/verification/)\n",
    "# We won't use correlation as we're not interested in predicting daily weather but the actual pattern of climate\n",
    "fcast_vs_obs = ensemble_df_mean.merge(silo_df, on= 'date')\n",
    "\n",
    "fcast_vs_obs.rename(columns = {\"date\":\"date\", \"ens\":\"ens\", \"rad_x\":\"rad.fcast\",\"tmax_x\":\"tmax.fcast\",\"rain_x\":\"rain.fcast\",\"tmin_x\":\"tmin.fcast\",\"rad_y\":\"rad.obs\",\"tmax_y\":\"tmax.obs\",\"tmin_y\":\"tmin.obs\",\"rain_y\":\"rain.obs\",\"vp\":\"vp.obs\",\"evap\":\"evap.obs\"}, inplace=True)"
   ]
  },
  {
   "cell_type": "code",
   "execution_count": 15,
   "metadata": {},
   "outputs": [
    {
     "name": "stdout",
     "output_type": "stream",
     "text": [
      "-0.008851560323785666\n"
     ]
    }
   ],
   "source": [
    "# Mean error - Answers the question: What is the average forecast error?\n",
    "# We don't really want this for AgScore but it's informative\n",
    "fcast_vs_obs[\"error\"] = fcast_vs_obs[\"rain.fcast\"] - fcast_vs_obs[\"rain.obs\"]\n",
    "mean_error = fcast_vs_obs[\"error\"].mean()\n",
    "print (mean_error)"
   ]
  },
  {
   "cell_type": "code",
   "execution_count": 16,
   "metadata": {},
   "outputs": [
    {
     "name": "stdout",
     "output_type": "stream",
     "text": [
      "0.9909463448076238\n"
     ]
    }
   ],
   "source": [
    "# Multiplicative bias - Answers the question: How does the average forecast magnitude compare to the average observed magnitude?\n",
    "# Bias = mean of forecast divided by mean of observations\n",
    "bias = fcast_vs_obs[\"rain.fcast\"].mean() / fcast_vs_obs[\"rain.obs\"].mean()\n",
    "print (bias)\n",
    "\n",
    "# Next, we need more metrics..."
   ]
  },
  {
   "cell_type": "code",
   "execution_count": 1,
   "metadata": {},
   "outputs": [
    {
     "ename": "SyntaxError",
     "evalue": "invalid syntax (<ipython-input-1-c20b9ef9cc39>, line 1)",
     "output_type": "error",
     "traceback": [
      "\u001b[1;36m  File \u001b[1;32m\"<ipython-input-1-c20b9ef9cc39>\"\u001b[1;36m, line \u001b[1;32m1\u001b[0m\n\u001b[1;33m    ncdump nc\u001b[0m\n\u001b[1;37m            ^\u001b[0m\n\u001b[1;31mSyntaxError\u001b[0m\u001b[1;31m:\u001b[0m invalid syntax\n"
     ]
    }
   ],
   "source": [
    "ncdump nc"
   ]
  }
 ],
 "metadata": {
  "kernelspec": {
   "display_name": "Python 3",
   "language": "python",
   "name": "python3"
  },
  "language_info": {
   "codemirror_mode": {
    "name": "ipython",
    "version": 3
   },
   "file_extension": ".py",
   "mimetype": "text/x-python",
   "name": "python",
   "nbconvert_exporter": "python",
   "pygments_lexer": "ipython3",
   "version": "3.7.1"
  }
 },
 "nbformat": 4,
 "nbformat_minor": 2
}
