{
 "cells": [
  {
   "cell_type": "code",
   "execution_count": null,
   "metadata": {},
   "outputs": [],
   "source": [
    "# %load stat_metrics_compare_ensemble_and_SILO.py\n",
    "\"\"\"\n",
    "Created on Tue Apr 23 14:12:09 2019\n",
    "\n",
    "@author: nav00a\n",
    "\"\"\"\n",
    "\n",
    "# xarray opens the netcdf file\n",
    "import xarray as xr\n",
    "import requests\n",
    "import io\n",
    "import pandas as pd\n",
    "from plotnine import *\n",
    "import datetime\n",
    "\n",
    "nc = xr.open_dataset(\"../data/ensemble_siloaccess_s.nc\")\n",
    "# type nc in the console to see a summary of the object incl. attributes, dimensions and variables\n",
    "\n",
    "# Interesting behaviour from xarray: if we define a variable with name \"days\" and units \"days since Jan 1st 1970\",\n",
    "# it automatically reads it in as a datetime object!! It won't do it otherwise, but since this is what we want,\n",
    "# we just go with it.\n",
    "\n",
    "# Get some properties (attributes) from the netcdf file\n",
    "# Attributes are values that the creator of the file has provided as a sort of header\n",
    "start_month = nc.attrs[\"hindcast_start_month\"]\n",
    "lon = nc.attrs[\"longitude\"]\n",
    "lat = nc.attrs[\"latitude\"]\n",
    "\n",
    "# Get time bounds properties of the .nc file, which aren't declared attributes\n",
    "minyear = int(min(nc.year))\n",
    "maxyear = int(max(nc.year))\n",
    "\n",
    "# Now we convert the imported netcdf object to a pandas dataframe\n",
    "ensemble_df = nc.to_dataframe().reset_index()\n",
    "# Can't remember why I convert date to a string, but it was needed for grouping I think (won't work well with a datetime object)\n",
    "# We also create a \"date\" column, because it makes more sense than a \"days\" column formatted as a date\n",
    "# A \"date\" column also plays along nicely with the SILO dataset\n",
    "ensemble_df[\"date\"] = ensemble_df[\"days\"].astype(str)\n",
    "# Delete \"days\" column\n",
    "ensemble_df = ensemble_df.drop(columns=\"days\")\n",
    "\n",
    "\n",
    "# Get SILO data to compare ensemble with it\n",
    "\n",
    "# Set SILO url download link (specifying csv format)\n",
    "silourl = \"https://dcdp.research.csiro.au/silogrid?lat=\"+ str(lat)  +\"&lon=\" + str(lon) +\" &format=csv&start=\" + str(minyear) +\"0101&stop=\" + str(maxyear) +\"1231\"\n",
    "# Download SILO data\n",
    "httpreq = requests.get(silourl, verify=False)\n",
    "\n",
    "# Use the StringIO function to interpret the csv-like object as if it was saved to disk, then read_csv into pandas\n",
    "silo_df = pd.read_csv(io.StringIO(httpreq.content.decode('utf-8')))\n",
    "# This is to remove the header row\n",
    "silo_df = silo_df.iloc[1:]\n",
    "# Set columns to correct format\n",
    "silo_df[\"date\"] = silo_df[\"date\"].astype(str)\n",
    "silo_df[\"rad\"] = silo_df[\"rad\"].astype(float)\n",
    "silo_df[\"tmax\"] = silo_df[\"tmax\"].astype(float)\n",
    "silo_df[\"tmin\"] = silo_df[\"tmin\"].astype(float)\n",
    "silo_df[\"rain\"] = silo_df[\"rain\"].astype(float)\n",
    "silo_df[\"vp\"] = silo_df[\"vp\"].astype(float)\n",
    "silo_df[\"evap\"] = silo_df[\"evap\"].astype(float)\n",
    "\n",
    "\n",
    "# Compare ensemble and SILO\n",
    "\n",
    "# We calculate the mean of the ensemble as this is what we want to evaluate\n",
    "ensemble_df_mean = ensemble_df.groupby([\"date\"]).mean().reset_index()\n",
    "\n",
    "# ANALYSIS \n",
    "\n",
    "# Plot using ggplot2 for python (plotnine). Currently not too pretty, need to find how to mend the looks\n",
    "(ggplot(ensemble_df_mean.where(ensemble_df_mean[\"rain\"]>0.1))+\n",
    "  geom_density(mapping= aes(x = \"rain\"), color=\"red\", size=1) +\n",
    "  geom_density(data=silo_df.where(silo_df[\"rain\"]>0.1), mapping= aes(x = \"rain\"), color=\"white\", size=1, linetype='dotted') +\n",
    "  theme_minimal()+\n",
    "  coord_cartesian(xlim =(0, 20))\n",
    "  )\n",
    "\n",
    "# Calculate ensemble performance metrics (based on http://www.cawcr.gov.au/projects/verification/)\n",
    "# We won't use correlation as we're not interested in predicting daily weather but the actual pattern of climate\n",
    "fcast_vs_obs = ensemble_df_mean.merge(silo_df, on= 'date')\n",
    "\n",
    "fcast_vs_obs.rename(columns = {\"date\":\"date\", \"ens\":\"ens\", \"rad_x\":\"rad.fcast\",\"tmax_x\":\"tmax.fcast\",\"rain_x\":\"rain.fcast\",\"tmin_x\":\"tmin.fcast\",\"rad_y\":\"rad.obs\",\"tmax_y\":\"tmax.obs\",\"tmin_y\":\"tmin.obs\",\"rain_y\":\"rain.obs\",\"vp\":\"vp.obs\",\"evap\":\"evap.obs\"}, inplace=True)\n",
    "\n",
    "# Mean error - Answers the question: What is the average forecast error?\n",
    "# We don't really want this for AgScore but it's informative\n",
    "fcast_vs_obs[\"error\"] = fcast_vs_obs[\"rain.fcast\"] - fcast_vs_obs[\"rain.obs\"]\n",
    "mean_error = fcast_vs_obs[\"error\"].mean()\n",
    "print (mean_error)\n",
    "\n",
    "# Multiplicative bias - Answers the question: How does the average forecast magnitude compare to the average observed magnitude?\n",
    "# Bias = mean of forecast divided by mean of observations\n",
    "bias = fcast_vs_obs[\"rain.fcast\"].mean() / fcast_vs_obs[\"rain.obs\"].mean()\n",
    "print (bias)\n",
    "\n",
    "# Next, we need more metrics...\n",
    "\n",
    "\n",
    "\n",
    "\n"
   ]
  },
  {
   "cell_type": "code",
   "execution_count": 1,
   "metadata": {},
   "outputs": [],
   "source": [
    "# %load stat_metrics_compare_ensemble_and_SILO.py\n",
    "\"\"\"\n",
    "Created on Tue Apr 23 14:12:09 2019\n",
    "\n",
    "@author: nav00a\n",
    "\"\"\"\n",
    "\n",
    "import xarray as xr\n",
    "import requests\n",
    "import io\n",
    "import pandas as pd\n",
    "import datetime"
   ]
  },
  {
   "cell_type": "code",
   "execution_count": 2,
   "metadata": {},
   "outputs": [
    {
     "name": "stdout",
     "output_type": "stream",
     "text": [
      "<xarray.Dataset>\n",
      "Dimensions:  (ens: 11, ensday: 216, year: 23)\n",
      "Coordinates:\n",
      "  * ensday   (ensday) float64 0.0 1.0 2.0 3.0 4.0 ... 212.0 213.0 214.0 215.0\n",
      "  * year     (year) float64 1.99e+03 1.991e+03 1.992e+03 ... 2.011e+03 2.012e+03\n",
      "  * ens      (ens) float64 1.0 2.0 3.0 4.0 5.0 6.0 7.0 8.0 9.0 10.0 11.0\n",
      "Data variables:\n",
      "    days     (ens, year, ensday) datetime64[ns] ...\n",
      "    rad      (ens, year, ensday) float32 ...\n",
      "    tmax     (ens, year, ensday) float32 ...\n",
      "    rain     (ens, year, ensday) float32 ...\n",
      "    tmin     (ens, year, ensday) float32 ...\n",
      "Attributes:\n",
      "    latitude:              -35.99\n",
      "    longitude:             142.92\n",
      "    hindcast_start_month:  4.0\n",
      "    ensemble_members:      11.0\n"
     ]
    }
   ],
   "source": [
    "# xarray opens the netcdf file\n",
    "\n",
    "# type nc in the console to see a summary of the object incl. attributes, dimensions and variables\n",
    "\n",
    "# Interesting behaviour from xarray: if we define a variable with name \"days\" and units \"days since Jan 1st 1970\",\n",
    "# it automatically reads it in as a datetime object!! It won't do it otherwise, but since this is what we want,\n",
    "# we just go with it.\n",
    "\n",
    "nc = xr.open_dataset(\"../data/ensemble_siloaccess_s.nc\")\n",
    "print(nc)"
   ]
  },
  {
   "cell_type": "code",
   "execution_count": 3,
   "metadata": {},
   "outputs": [
    {
     "name": "stdout",
     "output_type": "stream",
     "text": [
      "4.0\n",
      "142.92\n",
      "-35.99\n"
     ]
    }
   ],
   "source": [
    "# Get some properties (attributes) from the netcdf file\n",
    "# Attributes are values that the creator of the file has provided as a sort of header\n",
    "\n",
    "start_month = nc.attrs[\"hindcast_start_month\"]\n",
    "lon = nc.attrs[\"longitude\"]\n",
    "lat = nc.attrs[\"latitude\"]\n",
    "\n",
    "print(start_month)\n",
    "print(lon)\n",
    "print(lat)"
   ]
  },
  {
   "cell_type": "code",
   "execution_count": 4,
   "metadata": {},
   "outputs": [
    {
     "name": "stdout",
     "output_type": "stream",
     "text": [
      "1990\n",
      "2012\n"
     ]
    }
   ],
   "source": [
    "# Get time bounds properties of the .nc file, which aren't declared attributes\n",
    "\n",
    "minyear = int(min(nc.year))\n",
    "maxyear = int(max(nc.year))\n",
    "\n",
    "print(minyear)\n",
    "print(maxyear)"
   ]
  },
  {
   "cell_type": "code",
   "execution_count": 5,
   "metadata": {},
   "outputs": [],
   "source": [
    "# Now we convert the imported netcdf object to a pandas dataframe\n",
    "\n",
    "ensemble_df = nc.to_dataframe().reset_index()"
   ]
  },
  {
   "cell_type": "code",
   "execution_count": 6,
   "metadata": {},
   "outputs": [],
   "source": [
    "# Can't remember why I convert date to a string, but it was needed for grouping I think \n",
    "# (won't work well with a datetime object)\n",
    "# We also create a \"date\" column, because it makes more sense than a \"days\" column formatted as a date\n",
    "# A \"date\" column also plays along nicely with the SILO dataset\n",
    "\n",
    "ensemble_df[\"date\"] = ensemble_df[\"days\"].astype(str)"
   ]
  },
  {
   "cell_type": "code",
   "execution_count": 7,
   "metadata": {},
   "outputs": [],
   "source": [
    "# Delete \"days\" column\n",
    "\n",
    "ensemble_df = ensemble_df.drop(columns=\"days\")"
   ]
  },
  {
   "cell_type": "code",
   "execution_count": 9,
   "metadata": {},
   "outputs": [
    {
     "name": "stdout",
     "output_type": "stream",
     "text": [
      "            date   ens  ensday    year        rad       tmax      rain  \\\n",
      "0     1990-04-01   1.0     0.0  1995.0  19.469091  24.893637  0.000000   \n",
      "1     1990-04-02   1.0     1.0  1995.0  19.637272  23.433636  0.000000   \n",
      "2     1990-04-03   1.0     2.0  1995.0  19.849091  26.585455  0.000000   \n",
      "3     1990-04-04   1.0     3.0  1995.0  18.021818  29.214544  0.004545   \n",
      "4     1990-04-05   1.0     4.0  1995.0  14.961818  28.380001  1.159091   \n",
      "5     1990-04-06   1.0     5.0  1995.0  14.653636  28.348181  1.214545   \n",
      "6     1990-04-07   1.0     6.0  1995.0  14.489091  26.299999  1.662727   \n",
      "7     1990-04-08   1.0     7.0  1995.0  16.201818  26.136364  0.938182   \n",
      "8     1990-04-09   1.0     8.0  1995.0  12.909091  24.195454  2.799091   \n",
      "9     1990-04-10   1.0     9.0  1995.0  14.780000  22.581818  0.451818   \n",
      "10    1990-04-11   1.0    10.0  1995.0  14.810909  23.250000  0.630909   \n",
      "11    1990-04-12   1.0    11.0  1995.0  14.275455  23.760908  0.871818   \n",
      "12    1990-04-13   1.0    12.0  1995.0  14.567272  24.491817  0.125455   \n",
      "13    1990-04-14   1.0    13.0  1995.0  10.873636  25.120001  2.212727   \n",
      "14    1990-04-15   1.0    14.0  1995.0   9.530909  23.696363  5.693636   \n",
      "15    1990-04-16   1.0    15.0  1995.0   9.758182  21.985455  5.303637   \n",
      "16    1990-04-17   1.0    16.0  1995.0  12.059091  22.406363  1.230909   \n",
      "17    1990-04-18   1.0    17.0  1995.0  14.419091  22.834545  1.872727   \n",
      "18    1990-04-19   1.0    18.0  1995.0  12.589091  21.545454  0.017273   \n",
      "19    1990-04-20   1.0    19.0  1995.0  13.184546  21.673635  0.504545   \n",
      "20    1990-04-21   1.0    20.0  1995.0  13.107273  21.383636  0.658182   \n",
      "21    1990-04-22   1.0    21.0  1995.0  12.132728  19.563637  0.574545   \n",
      "22    1990-04-23   1.0    22.0  1995.0  11.649091  19.460909  0.590000   \n",
      "23    1990-04-24   1.0    23.0  1995.0  10.529091  19.991817  1.137273   \n",
      "24    1990-04-25   1.0    24.0  1995.0  10.307273  19.764545  0.773636   \n",
      "25    1990-04-26   1.0    25.0  1995.0  11.583636  19.829090  1.413636   \n",
      "26    1990-04-27   1.0    26.0  1995.0  12.914545  19.032726  0.359091   \n",
      "27    1990-04-28   1.0    27.0  1995.0  12.465454  19.740000  0.222727   \n",
      "28    1990-04-29   1.0    28.0  1995.0  12.906363  20.247272  0.006364   \n",
      "29    1990-04-30   1.0    29.0  1995.0  13.205455  20.412727  0.022727   \n",
      "...          ...   ...     ...     ...        ...        ...       ...   \n",
      "4938  2012-10-04  11.0   186.0  2007.0  20.103636  19.265455  0.006364   \n",
      "4939  2012-10-05  11.0   187.0  2007.0  20.233637  20.381819  0.671818   \n",
      "4940  2012-10-06  11.0   188.0  2007.0  21.486364  21.571817  0.728182   \n",
      "4941  2012-10-07  11.0   189.0  2007.0  21.086363  21.968182  0.337273   \n",
      "4942  2012-10-08  11.0   190.0  2007.0  21.187273  20.760910  0.105455   \n",
      "4943  2012-10-09  11.0   191.0  2007.0  18.452726  20.521818  0.707273   \n",
      "4944  2012-10-10  11.0   192.0  2007.0  21.517273  20.197273  0.220909   \n",
      "4945  2012-10-11  11.0   193.0  2007.0  21.319092  20.565454  0.002727   \n",
      "4946  2012-10-12  11.0   194.0  2007.0  22.468182  22.583637  0.014545   \n",
      "4947  2012-10-13  11.0   195.0  2007.0  22.883636  24.710909  0.227273   \n",
      "4948  2012-10-14  11.0   196.0  2007.0  19.418182  24.642727  1.457273   \n",
      "4949  2012-10-15  11.0   197.0  2007.0  18.969091  24.568182  1.364545   \n",
      "4950  2012-10-16  11.0   198.0  2007.0  18.825455  24.474545  1.530909   \n",
      "4951  2012-10-17  11.0   199.0  2007.0  21.863636  23.627272  0.288182   \n",
      "4952  2012-10-18  11.0   200.0  2007.0  23.770000  21.135454  0.233636   \n",
      "4953  2012-10-19  11.0   201.0  2007.0  22.687273  22.385454  0.611818   \n",
      "4954  2012-10-20  11.0   202.0  2007.0  21.354546  22.933636  0.520000   \n",
      "4955  2012-10-21  11.0   203.0  2007.0  21.892727  22.913635  1.230000   \n",
      "4956  2012-10-22  11.0   204.0  2007.0  23.300909  21.919090  1.551818   \n",
      "4957  2012-10-23  11.0   205.0  2007.0  20.417273  21.869091  0.382727   \n",
      "4958  2012-10-24  11.0   206.0  2007.0  23.706364  23.553637  0.711818   \n",
      "4959  2012-10-25  11.0   207.0  2007.0  25.195454  26.455454  0.526364   \n",
      "4960  2012-10-26  11.0   208.0  2007.0  20.966364  27.110909  4.210000   \n",
      "4961  2012-10-27  11.0   209.0  2007.0  20.670000  24.056364  2.845455   \n",
      "4962  2012-10-28  11.0   210.0  2007.0  20.009090  22.694546  2.626364   \n",
      "4963  2012-10-29  11.0   211.0  2007.0  24.459999  22.521818  0.484545   \n",
      "4964  2012-10-30  11.0   212.0  2007.0  24.219999  21.458181  0.027273   \n",
      "4965  2012-10-31  11.0   213.0  2007.0  24.881819  21.199091  0.031818   \n",
      "4966  2012-11-01  11.0   214.0  2007.0  24.307274  23.684546  1.244545   \n",
      "4967  2012-11-02  11.0   215.0  2007.0  23.260908  24.582727  0.713636   \n",
      "\n",
      "           tmin  \n",
      "0     12.511818  \n",
      "1      8.200000  \n",
      "2     12.881818  \n",
      "3     15.168181  \n",
      "4     15.458181  \n",
      "5     13.806363  \n",
      "6     12.533636  \n",
      "7     12.618182  \n",
      "8     11.634545  \n",
      "9     10.796364  \n",
      "10    11.211818  \n",
      "11    10.824546  \n",
      "12    12.727273  \n",
      "13    13.629090  \n",
      "14    13.115455  \n",
      "15    11.792727  \n",
      "16    11.516364  \n",
      "17    10.939091  \n",
      "18     9.671818  \n",
      "19     9.603637  \n",
      "20     9.172728  \n",
      "21     9.099091  \n",
      "22     9.934546  \n",
      "23     9.752728  \n",
      "24     9.804545  \n",
      "25     8.467273  \n",
      "26     8.313637  \n",
      "27     8.328182  \n",
      "28     9.056364  \n",
      "29     8.163636  \n",
      "...         ...  \n",
      "4938   6.046363  \n",
      "4939   6.754546  \n",
      "4940   6.094545  \n",
      "4941   6.863636  \n",
      "4942   7.518182  \n",
      "4943   6.996364  \n",
      "4944   6.646364  \n",
      "4945   6.134545  \n",
      "4946   7.450909  \n",
      "4947  10.113636  \n",
      "4948   8.545454  \n",
      "4949   8.556364  \n",
      "4950  10.671818  \n",
      "4951   7.410909  \n",
      "4952   7.456364  \n",
      "4953   7.647273  \n",
      "4954   8.559091  \n",
      "4955   7.639091  \n",
      "4956   7.856364  \n",
      "4957   8.390909  \n",
      "4958   8.535455  \n",
      "4959  10.093637  \n",
      "4960  11.491818  \n",
      "4961   9.328182  \n",
      "4962   9.235455  \n",
      "4963   8.270909  \n",
      "4964   7.511818  \n",
      "4965   8.112727  \n",
      "4966   9.345454  \n",
      "4967   8.974545  \n",
      "\n",
      "[4968 rows x 8 columns]\n"
     ]
    }
   ],
   "source": [
    "# We calculate the mean of the ensemble as this is what we want to evaluate\n",
    "# we won't be looking at each ensemble individually\n",
    "\n",
    "ensemble_df_mean = ensemble_df.groupby([\"date\"]).mean().reset_index()\n",
    "print(ensemble_df_mean)"
   ]
  },
  {
   "cell_type": "code",
   "execution_count": 10,
   "metadata": {},
   "outputs": [
    {
     "name": "stdout",
     "output_type": "stream",
     "text": [
      "https://dcdp.research.csiro.au/silogrid?lat=-35.99&lon=142.92 &format=csv&start=19900101&stop=20121231\n"
     ]
    }
   ],
   "source": [
    "# Get SILO data to compare ensemble with \n",
    "# Set SILO url download link (specifying csv format)\n",
    "\n",
    "silourl = \"https://dcdp.research.csiro.au/silogrid?lat=\"+ str(lat)  +\"&lon=\" + str(lon) +\" &format=csv&start=\" + str(minyear) +\"0101&stop=\" + str(maxyear) +\"1231\"\n",
    "print(silourl)"
   ]
  },
  {
   "cell_type": "code",
   "execution_count": 11,
   "metadata": {},
   "outputs": [
    {
     "name": "stderr",
     "output_type": "stream",
     "text": [
      "C:\\Users\\zin005\\AppData\\Local\\Continuum\\anaconda3\\lib\\site-packages\\urllib3\\connectionpool.py:847: InsecureRequestWarning: Unverified HTTPS request is being made. Adding certificate verification is strongly advised. See: https://urllib3.readthedocs.io/en/latest/advanced-usage.html#ssl-warnings\n",
      "  InsecureRequestWarning)\n"
     ]
    },
    {
     "name": "stdout",
     "output_type": "stream",
     "text": [
      "<Response [200]>\n"
     ]
    }
   ],
   "source": [
    "# Download SILO data\n",
    "\n",
    "httpreq = requests.get(silourl, verify=False)\n",
    "print(httpreq)"
   ]
  },
  {
   "cell_type": "code",
   "execution_count": 12,
   "metadata": {},
   "outputs": [
    {
     "name": "stdout",
     "output_type": "stream",
     "text": [
      "            date     rad   tmax   tmin   rain     vp   evap\n",
      "0              -  MJ/m^2     oC     oC     mm    hPa     mm\n",
      "1     1990-01-01   32.10  32.60  15.60   0.00  13.20   9.70\n",
      "2     1990-01-02   28.60  38.10  12.80   0.00  11.90  10.60\n",
      "3     1990-01-03   29.70  43.10  20.20   0.00   7.70  13.20\n",
      "4     1990-01-04   31.80  27.00  11.50   0.00  10.70   8.70\n",
      "5     1990-01-05   25.50  30.00  14.30   0.00  11.10   8.40\n",
      "6     1990-01-06   26.20  30.80  13.90   0.00  12.70   8.40\n",
      "7     1990-01-07   14.10  27.00  15.40   0.00  13.00   6.00\n",
      "8     1990-01-08   20.20  29.60  14.20   0.00  11.20   7.50\n",
      "9     1990-01-09   10.80  28.50  17.00   1.70  19.20   5.20\n",
      "10    1990-01-10   12.10  31.20  18.60   1.10  20.00   5.90\n",
      "11    1990-01-11   25.80  35.00  19.30   0.80  22.70   8.40\n",
      "12    1990-01-12   29.10  34.90  20.40   0.50  17.80   9.40\n",
      "13    1990-01-13   31.50  29.20  13.70   0.00  12.70   8.90\n",
      "14    1990-01-14   21.70  27.10  10.40   0.00  11.00   7.20\n",
      "15    1990-01-15   31.50  25.60   9.90   0.00  10.90   8.30\n",
      "16    1990-01-16   31.60  24.00   7.90   0.00   8.80   8.30\n",
      "17    1990-01-17   29.10  28.90   9.00   0.00   9.80   8.70\n",
      "18    1990-01-18   23.60  29.60  15.20   0.00  18.90   7.20\n",
      "19    1990-01-19   25.10  30.40  13.30   0.80  12.80   8.20\n",
      "20    1990-01-20   27.50  28.00  12.30   0.00  13.70   7.90\n",
      "21    1990-01-21   29.60  28.60   9.80   0.00   9.90   8.70\n",
      "22    1990-01-22   29.40  32.30  11.70   0.00  11.60   9.30\n",
      "23    1990-01-23   30.80  37.10  16.00   0.00  13.70  10.60\n",
      "24    1990-01-24   30.50  40.60  23.60   0.00  10.10  12.30\n",
      "25    1990-01-25   29.90  34.30  15.10   0.00  11.60   9.90\n",
      "26    1990-01-26   28.20  36.90  17.10   0.00  16.40   9.90\n",
      "27    1990-01-27   22.20  30.40  17.00   0.00  15.90   7.50\n",
      "28    1990-01-28   28.70  27.20  15.40   0.00  12.20   8.20\n",
      "29    1990-01-29   25.90  28.60  11.70   0.00  10.40   8.20\n",
      "...          ...     ...    ...    ...    ...    ...    ...\n",
      "8372  2012-12-02   26.40  25.20   9.30   0.20  11.60   7.10\n",
      "8373  2012-12-03   20.20  23.50   8.30   0.00   9.90   6.20\n",
      "8374  2012-12-04   24.90  22.20   9.80   0.00   8.10   6.90\n",
      "8375  2012-12-05   19.70  22.90  11.50   0.00  10.40   6.00\n",
      "8376  2012-12-06   27.50  27.80   7.20   0.00  10.30   7.80\n",
      "8377  2012-12-07   19.30  33.20  15.10   0.00  10.20   8.20\n",
      "8378  2012-12-08   24.50  38.70  18.80   0.00   8.40  10.80\n",
      "8379  2012-12-09   31.50  26.40  10.80   0.00   9.00   8.40\n",
      "8380  2012-12-10   32.70  30.00   8.80   0.00   8.80   9.20\n",
      "8381  2012-12-11   32.10  33.20  12.10   0.00  11.80   9.60\n",
      "8382  2012-12-12   26.40  36.60  17.70   0.00  12.90   9.90\n",
      "8383  2012-12-13   24.10  39.90  21.30   0.00  11.20  11.00\n",
      "8384  2012-12-14    8.00  27.70  21.00   0.70  17.60   4.70\n",
      "8385  2012-12-15   17.40  26.40  20.10   6.80  20.50   5.40\n",
      "8386  2012-12-16   16.20  24.40  14.90   0.00  13.80   5.50\n",
      "8387  2012-12-17   31.40  25.40   7.10   0.00   8.90   8.10\n",
      "8388  2012-12-18   31.90  31.60  10.20   0.00  10.80   9.30\n",
      "8389  2012-12-19   21.50  36.90  17.20   0.00  11.40   9.40\n",
      "8390  2012-12-20   29.50  27.70  10.80   0.00  12.80   7.90\n",
      "8391  2012-12-21   31.70  30.10  10.40   0.00  10.40   9.00\n",
      "8392  2012-12-22   31.80  35.40  11.10   0.00  10.90  10.30\n",
      "8393  2012-12-23   24.80  40.10  14.90   0.00   8.00  11.30\n",
      "8394  2012-12-24   19.00  29.70  23.40   0.00  10.70   7.60\n",
      "8395  2012-12-25   29.10  28.30   9.90   0.00  10.60   8.20\n",
      "8396  2012-12-26   32.10  29.80  10.00   0.00   9.70   9.00\n",
      "8397  2012-12-27   27.50  34.60  13.40   0.00  10.80   9.50\n",
      "8398  2012-12-28   30.20  28.00  11.90   0.00  11.70   8.20\n",
      "8399  2012-12-29   31.80  29.50   9.50   0.00  10.80   8.80\n",
      "8400  2012-12-30   32.40  30.60  11.70   0.00   9.90   9.30\n",
      "8401  2012-12-31   32.60  33.00  11.20   0.00   9.30   9.90\n",
      "\n",
      "[8402 rows x 7 columns]\n"
     ]
    }
   ],
   "source": [
    "# Use the StringIO function to interpret the csv-like object as if it was saved to disk, then read_csv into pandas\n",
    "\n",
    "silo_df = pd.read_csv(io.StringIO(httpreq.content.decode('utf-8')))\n",
    "print(silo_df)"
   ]
  },
  {
   "cell_type": "code",
   "execution_count": 13,
   "metadata": {},
   "outputs": [
    {
     "name": "stdout",
     "output_type": "stream",
     "text": [
      "            date    rad   tmax   tmin   rain     vp   evap\n",
      "1     1990-01-01  32.10  32.60  15.60   0.00  13.20   9.70\n",
      "2     1990-01-02  28.60  38.10  12.80   0.00  11.90  10.60\n",
      "3     1990-01-03  29.70  43.10  20.20   0.00   7.70  13.20\n",
      "4     1990-01-04  31.80  27.00  11.50   0.00  10.70   8.70\n",
      "5     1990-01-05  25.50  30.00  14.30   0.00  11.10   8.40\n",
      "6     1990-01-06  26.20  30.80  13.90   0.00  12.70   8.40\n",
      "7     1990-01-07  14.10  27.00  15.40   0.00  13.00   6.00\n",
      "8     1990-01-08  20.20  29.60  14.20   0.00  11.20   7.50\n",
      "9     1990-01-09  10.80  28.50  17.00   1.70  19.20   5.20\n",
      "10    1990-01-10  12.10  31.20  18.60   1.10  20.00   5.90\n",
      "11    1990-01-11  25.80  35.00  19.30   0.80  22.70   8.40\n",
      "12    1990-01-12  29.10  34.90  20.40   0.50  17.80   9.40\n",
      "13    1990-01-13  31.50  29.20  13.70   0.00  12.70   8.90\n",
      "14    1990-01-14  21.70  27.10  10.40   0.00  11.00   7.20\n",
      "15    1990-01-15  31.50  25.60   9.90   0.00  10.90   8.30\n",
      "16    1990-01-16  31.60  24.00   7.90   0.00   8.80   8.30\n",
      "17    1990-01-17  29.10  28.90   9.00   0.00   9.80   8.70\n",
      "18    1990-01-18  23.60  29.60  15.20   0.00  18.90   7.20\n",
      "19    1990-01-19  25.10  30.40  13.30   0.80  12.80   8.20\n",
      "20    1990-01-20  27.50  28.00  12.30   0.00  13.70   7.90\n",
      "21    1990-01-21  29.60  28.60   9.80   0.00   9.90   8.70\n",
      "22    1990-01-22  29.40  32.30  11.70   0.00  11.60   9.30\n",
      "23    1990-01-23  30.80  37.10  16.00   0.00  13.70  10.60\n",
      "24    1990-01-24  30.50  40.60  23.60   0.00  10.10  12.30\n",
      "25    1990-01-25  29.90  34.30  15.10   0.00  11.60   9.90\n",
      "26    1990-01-26  28.20  36.90  17.10   0.00  16.40   9.90\n",
      "27    1990-01-27  22.20  30.40  17.00   0.00  15.90   7.50\n",
      "28    1990-01-28  28.70  27.20  15.40   0.00  12.20   8.20\n",
      "29    1990-01-29  25.90  28.60  11.70   0.00  10.40   8.20\n",
      "30    1990-01-30  25.90  37.80  14.70   0.00  13.50  10.10\n",
      "...          ...    ...    ...    ...    ...    ...    ...\n",
      "8372  2012-12-02  26.40  25.20   9.30   0.20  11.60   7.10\n",
      "8373  2012-12-03  20.20  23.50   8.30   0.00   9.90   6.20\n",
      "8374  2012-12-04  24.90  22.20   9.80   0.00   8.10   6.90\n",
      "8375  2012-12-05  19.70  22.90  11.50   0.00  10.40   6.00\n",
      "8376  2012-12-06  27.50  27.80   7.20   0.00  10.30   7.80\n",
      "8377  2012-12-07  19.30  33.20  15.10   0.00  10.20   8.20\n",
      "8378  2012-12-08  24.50  38.70  18.80   0.00   8.40  10.80\n",
      "8379  2012-12-09  31.50  26.40  10.80   0.00   9.00   8.40\n",
      "8380  2012-12-10  32.70  30.00   8.80   0.00   8.80   9.20\n",
      "8381  2012-12-11  32.10  33.20  12.10   0.00  11.80   9.60\n",
      "8382  2012-12-12  26.40  36.60  17.70   0.00  12.90   9.90\n",
      "8383  2012-12-13  24.10  39.90  21.30   0.00  11.20  11.00\n",
      "8384  2012-12-14   8.00  27.70  21.00   0.70  17.60   4.70\n",
      "8385  2012-12-15  17.40  26.40  20.10   6.80  20.50   5.40\n",
      "8386  2012-12-16  16.20  24.40  14.90   0.00  13.80   5.50\n",
      "8387  2012-12-17  31.40  25.40   7.10   0.00   8.90   8.10\n",
      "8388  2012-12-18  31.90  31.60  10.20   0.00  10.80   9.30\n",
      "8389  2012-12-19  21.50  36.90  17.20   0.00  11.40   9.40\n",
      "8390  2012-12-20  29.50  27.70  10.80   0.00  12.80   7.90\n",
      "8391  2012-12-21  31.70  30.10  10.40   0.00  10.40   9.00\n",
      "8392  2012-12-22  31.80  35.40  11.10   0.00  10.90  10.30\n",
      "8393  2012-12-23  24.80  40.10  14.90   0.00   8.00  11.30\n",
      "8394  2012-12-24  19.00  29.70  23.40   0.00  10.70   7.60\n",
      "8395  2012-12-25  29.10  28.30   9.90   0.00  10.60   8.20\n",
      "8396  2012-12-26  32.10  29.80  10.00   0.00   9.70   9.00\n",
      "8397  2012-12-27  27.50  34.60  13.40   0.00  10.80   9.50\n",
      "8398  2012-12-28  30.20  28.00  11.90   0.00  11.70   8.20\n",
      "8399  2012-12-29  31.80  29.50   9.50   0.00  10.80   8.80\n",
      "8400  2012-12-30  32.40  30.60  11.70   0.00   9.90   9.30\n",
      "8401  2012-12-31  32.60  33.00  11.20   0.00   9.30   9.90\n",
      "\n",
      "[8401 rows x 7 columns]\n"
     ]
    }
   ],
   "source": [
    "# This is to remove the header row\n",
    "\n",
    "silo_df = silo_df.iloc[1:]\n",
    "print(silo_df)"
   ]
  },
  {
   "cell_type": "code",
   "execution_count": 14,
   "metadata": {},
   "outputs": [],
   "source": [
    "# Set columns to correct format\n",
    "\n",
    "silo_df[\"date\"] = silo_df[\"date\"].astype(str)\n",
    "silo_df[\"rad\"] = silo_df[\"rad\"].astype(float)\n",
    "silo_df[\"tmax\"] = silo_df[\"tmax\"].astype(float)\n",
    "silo_df[\"tmin\"] = silo_df[\"tmin\"].astype(float)\n",
    "silo_df[\"rain\"] = silo_df[\"rain\"].astype(float)\n",
    "silo_df[\"vp\"] = silo_df[\"vp\"].astype(float)\n",
    "silo_df[\"evap\"] = silo_df[\"evap\"].astype(float)"
   ]
  },
  {
   "cell_type": "code",
   "execution_count": 15,
   "metadata": {},
   "outputs": [
    {
     "data": {
      "text/plain": [
       "pandas.core.series.Series"
      ]
     },
     "execution_count": 15,
     "metadata": {},
     "output_type": "execute_result"
    }
   ],
   "source": [
    "# check the type of the date column - this says it is a series - not sure if the code in the previous cell did anything\n",
    "\n",
    "type(silo_df[\"date\"])"
   ]
  },
  {
   "cell_type": "code",
   "execution_count": 16,
   "metadata": {},
   "outputs": [
    {
     "name": "stdout",
     "output_type": "stream",
     "text": [
      "            date   rad  tmax  tmin  rain    vp  evap\n",
      "91    1990-04-01  20.3  23.9   8.0   0.0  11.5   4.2\n",
      "92    1990-04-02  20.1  22.4  11.1   0.0  11.0   4.0\n",
      "93    1990-04-03  20.1  26.0   8.4   0.0  11.2   4.5\n",
      "94    1990-04-04  19.0  28.3  13.0   0.0  13.7   4.7\n",
      "95    1990-04-05  19.0  29.1  14.0   0.0  14.4   4.8\n",
      "96    1990-04-06  16.4  29.4  14.7   0.0  15.6   4.6\n",
      "97    1990-04-07  16.2  24.3   9.9   0.0  11.9   3.9\n",
      "98    1990-04-08  16.0  23.1   8.7   0.0  10.5   3.8\n",
      "99    1990-04-09  18.4  26.0   8.8   0.0  13.4   4.2\n",
      "100   1990-04-10  11.5  25.9  13.0   0.0  17.0   3.3\n",
      "101   1990-04-11   6.2  23.8  17.4   0.0  18.8   2.4\n",
      "102   1990-04-12  15.3  29.1  13.8   0.0  18.3   4.1\n",
      "103   1990-04-13   9.3  29.1  15.3   0.0  14.9   4.1\n",
      "104   1990-04-14  15.1  21.2  11.3   1.2  13.3   3.2\n",
      "105   1990-04-15  16.7  19.3   6.5   0.0  10.2   3.3\n",
      "106   1990-04-16  17.6  19.8   6.2   0.0  10.2   3.5\n",
      "107   1990-04-17  17.7  21.1   6.8   2.1  10.8   3.6\n",
      "108   1990-04-18  12.9  23.4   8.2   0.0  11.9   3.5\n",
      "109   1990-04-19  11.5  23.8  11.3   0.0  13.2   3.3\n",
      "110   1990-04-20   4.3  20.7  14.7   0.0  15.8   2.1\n",
      "111   1990-04-21   7.5  19.3  15.1  11.0  16.4   2.1\n",
      "112   1990-04-22  16.4  20.3  11.2   1.0  12.5   3.3\n",
      "113   1990-04-23  13.9  20.3   5.7   1.5  11.7   3.1\n",
      "114   1990-04-24  11.9  21.9  10.8   0.0  14.7   2.9\n",
      "115   1990-04-25  12.6  19.6  11.3   0.1  14.0   2.7\n",
      "116   1990-04-26  13.8  18.1   9.2   0.0  11.8   2.8\n",
      "117   1990-04-27  15.0  18.9   6.2   0.0  10.1   3.2\n",
      "118   1990-04-28  12.6  21.9   5.3   0.0   8.7   3.5\n",
      "119   1990-04-29  11.2  19.0   9.8   0.0  13.5   2.6\n",
      "120   1990-04-30  14.1  22.2   7.8   1.0  11.7   3.4\n",
      "...          ...   ...   ...   ...   ...   ...   ...\n",
      "8313  2012-10-04  24.6  32.4   9.9   0.0   7.5   8.2\n",
      "8314  2012-10-05  22.6  21.9   7.2   0.0   9.2   4.8\n",
      "8315  2012-10-06   7.5  13.0   9.2   2.9  11.2   2.1\n",
      "8316  2012-10-07  19.9  16.5   1.5   9.4   9.7   3.5\n",
      "8317  2012-10-08  18.3  17.7   4.5   0.0  10.0   3.6\n",
      "8318  2012-10-09  21.4  19.7   2.3   0.0   9.7   4.1\n",
      "8319  2012-10-10  13.4  17.0   3.4   0.0   9.7   3.2\n",
      "8320  2012-10-11  14.0  14.0   1.2   2.8   7.9   3.0\n",
      "8321  2012-10-12  19.7  17.4   4.3   2.1  10.2   3.6\n",
      "8322  2012-10-13  19.0  20.0   5.8   0.0  11.2   3.9\n",
      "8323  2012-10-14  25.7  26.8   3.2   0.2  10.0   5.9\n",
      "8324  2012-10-15  14.5  31.2  11.5   0.0   7.3   7.2\n",
      "8325  2012-10-16  10.6  21.2  10.2   0.3  12.4   3.5\n",
      "8326  2012-10-17  25.3  21.7   3.4   0.0   9.7   4.8\n",
      "8327  2012-10-18  19.4  24.4   5.9   0.0   9.8   5.0\n",
      "8328  2012-10-19  23.4  32.2  11.5   0.0  10.5   7.6\n",
      "8329  2012-10-20  25.6  26.4   8.0   0.0  10.3   5.9\n",
      "8330  2012-10-21  25.9  21.9   8.1   0.0   9.1   5.1\n",
      "8331  2012-10-22  26.2  22.1   3.6   0.0   8.5   5.1\n",
      "8332  2012-10-23  22.5  25.7   7.8   0.0   6.9   6.1\n",
      "8333  2012-10-24   9.3  28.5  11.5   0.0   6.5   6.1\n",
      "8334  2012-10-25  18.8  22.2  13.7   0.0  13.1   4.2\n",
      "8335  2012-10-26  20.1  20.0   6.7   0.0   8.5   4.4\n",
      "8336  2012-10-27  26.9  21.6   4.0   0.4   8.9   5.0\n",
      "8337  2012-10-28  24.6  25.8   4.6   0.0   9.3   5.8\n",
      "8338  2012-10-29  24.2  30.3   8.0   0.0  11.6   6.7\n",
      "8339  2012-10-30  28.6  34.7   8.2   0.0   9.0   9.0\n",
      "8340  2012-10-31  13.6  36.4  13.0   0.0   7.4   9.1\n",
      "8341  2012-11-01  19.2  20.4  11.1   3.0  12.9   4.7\n",
      "8342  2012-11-02  22.1  21.5   4.6   0.0   9.4   5.4\n",
      "\n",
      "[4968 rows x 7 columns]\n"
     ]
    }
   ],
   "source": [
    "import re #regex\n",
    "\n",
    "# the ensemble_df has days from April 1st to November 2nd (!!???) each year - a total of 216 days.\n",
    "# to be able to compare the two data frames it is necessary to crop the silo_df so that it has the same days\n",
    "# we use regex to do this\n",
    "\n",
    "silo216_df = silo_df[silo_df['date'].str.contains(r'....-04-..|....-05-..|....-06-..|....-07-..|....-08-..|....-09-..|....-10-..|....-11-01|....-11-02')]\n",
    "print(silo216_df)"
   ]
  },
  {
   "cell_type": "code",
   "execution_count": 17,
   "metadata": {},
   "outputs": [
    {
     "name": "stdout",
     "output_type": "stream",
     "text": [
      "0       0.000000\n",
      "1       0.000000\n",
      "2       0.000000\n",
      "3       0.004545\n",
      "4       1.159091\n",
      "5       1.214545\n",
      "6       1.662727\n",
      "7       0.938182\n",
      "8       2.799091\n",
      "9       0.451818\n",
      "10      0.630909\n",
      "11      0.871818\n",
      "12      0.125455\n",
      "13      2.212727\n",
      "14      5.693636\n",
      "15      5.303637\n",
      "16      1.230909\n",
      "17      1.872727\n",
      "18      0.017273\n",
      "19      0.504545\n",
      "20      0.658182\n",
      "21      0.574545\n",
      "22      0.590000\n",
      "23      1.137273\n",
      "24      0.773636\n",
      "25      1.413636\n",
      "26      0.359091\n",
      "27      0.222727\n",
      "28      0.006364\n",
      "29      0.022727\n",
      "          ...   \n",
      "4938    0.006364\n",
      "4939    0.671818\n",
      "4940    0.728182\n",
      "4941    0.337273\n",
      "4942    0.105455\n",
      "4943    0.707273\n",
      "4944    0.220909\n",
      "4945    0.002727\n",
      "4946    0.014545\n",
      "4947    0.227273\n",
      "4948    1.457273\n",
      "4949    1.364545\n",
      "4950    1.530909\n",
      "4951    0.288182\n",
      "4952    0.233636\n",
      "4953    0.611818\n",
      "4954    0.520000\n",
      "4955    1.230000\n",
      "4956    1.551818\n",
      "4957    0.382727\n",
      "4958    0.711818\n",
      "4959    0.526364\n",
      "4960    4.210000\n",
      "4961    2.845455\n",
      "4962    2.626364\n",
      "4963    0.484545\n",
      "4964    0.027273\n",
      "4965    0.031818\n",
      "4966    1.244545\n",
      "4967    0.713636\n",
      "Name: rain, Length: 4968, dtype: float32\n"
     ]
    }
   ],
   "source": [
    "# choose the column \"rain\" from the ensemble data\n",
    "earrayRain = ensemble_df_mean[\"rain\"]\n",
    "print(earrayRain)"
   ]
  },
  {
   "cell_type": "code",
   "execution_count": 18,
   "metadata": {},
   "outputs": [
    {
     "name": "stdout",
     "output_type": "stream",
     "text": [
      "91       0.0\n",
      "92       0.0\n",
      "93       0.0\n",
      "94       0.0\n",
      "95       0.0\n",
      "96       0.0\n",
      "97       0.0\n",
      "98       0.0\n",
      "99       0.0\n",
      "100      0.0\n",
      "101      0.0\n",
      "102      0.0\n",
      "103      0.0\n",
      "104      1.2\n",
      "105      0.0\n",
      "106      0.0\n",
      "107      2.1\n",
      "108      0.0\n",
      "109      0.0\n",
      "110      0.0\n",
      "111     11.0\n",
      "112      1.0\n",
      "113      1.5\n",
      "114      0.0\n",
      "115      0.1\n",
      "116      0.0\n",
      "117      0.0\n",
      "118      0.0\n",
      "119      0.0\n",
      "120      1.0\n",
      "        ... \n",
      "8313     0.0\n",
      "8314     0.0\n",
      "8315     2.9\n",
      "8316     9.4\n",
      "8317     0.0\n",
      "8318     0.0\n",
      "8319     0.0\n",
      "8320     2.8\n",
      "8321     2.1\n",
      "8322     0.0\n",
      "8323     0.2\n",
      "8324     0.0\n",
      "8325     0.3\n",
      "8326     0.0\n",
      "8327     0.0\n",
      "8328     0.0\n",
      "8329     0.0\n",
      "8330     0.0\n",
      "8331     0.0\n",
      "8332     0.0\n",
      "8333     0.0\n",
      "8334     0.0\n",
      "8335     0.0\n",
      "8336     0.4\n",
      "8337     0.0\n",
      "8338     0.0\n",
      "8339     0.0\n",
      "8340     0.0\n",
      "8341     3.0\n",
      "8342     0.0\n",
      "Name: rain, Length: 4968, dtype: float64\n"
     ]
    }
   ],
   "source": [
    "# choose the column \"rain\" from the silo data\n",
    "\n",
    "sarrayRain = silo216_df[\"rain\"]\n",
    "print(sarrayRain)"
   ]
  },
  {
   "cell_type": "code",
   "execution_count": 20,
   "metadata": {},
   "outputs": [
    {
     "name": "stdout",
     "output_type": "stream",
     "text": [
      "91      1.000000e-08\n",
      "92      1.000000e-08\n",
      "93      1.000000e-08\n",
      "94      1.000000e-08\n",
      "95      1.000000e-08\n",
      "96      1.000000e-08\n",
      "97      1.000000e-08\n",
      "98      1.000000e-08\n",
      "99      1.000000e-08\n",
      "100     1.000000e-08\n",
      "101     1.000000e-08\n",
      "102     1.000000e-08\n",
      "103     1.000000e-08\n",
      "104     1.200000e+00\n",
      "105     1.000000e-08\n",
      "106     1.000000e-08\n",
      "107     2.100000e+00\n",
      "108     1.000000e-08\n",
      "109     1.000000e-08\n",
      "110     1.000000e-08\n",
      "111     1.100000e+01\n",
      "112     1.000000e+00\n",
      "113     1.500000e+00\n",
      "114     1.000000e-08\n",
      "115     1.000000e-01\n",
      "116     1.000000e-08\n",
      "117     1.000000e-08\n",
      "118     1.000000e-08\n",
      "119     1.000000e-08\n",
      "120     1.000000e+00\n",
      "            ...     \n",
      "8313    1.000000e-08\n",
      "8314    1.000000e-08\n",
      "8315    2.900000e+00\n",
      "8316    9.400000e+00\n",
      "8317    1.000000e-08\n",
      "8318    1.000000e-08\n",
      "8319    1.000000e-08\n",
      "8320    2.800000e+00\n",
      "8321    2.100000e+00\n",
      "8322    1.000000e-08\n",
      "8323    2.000000e-01\n",
      "8324    1.000000e-08\n",
      "8325    3.000000e-01\n",
      "8326    1.000000e-08\n",
      "8327    1.000000e-08\n",
      "8328    1.000000e-08\n",
      "8329    1.000000e-08\n",
      "8330    1.000000e-08\n",
      "8331    1.000000e-08\n",
      "8332    1.000000e-08\n",
      "8333    1.000000e-08\n",
      "8334    1.000000e-08\n",
      "8335    1.000000e-08\n",
      "8336    4.000000e-01\n",
      "8337    1.000000e-08\n",
      "8338    1.000000e-08\n",
      "8339    1.000000e-08\n",
      "8340    1.000000e-08\n",
      "8341    3.000000e+00\n",
      "8342    1.000000e-08\n",
      "Name: rain, Length: 4968, dtype: float64\n",
      "0       1.000000e-08\n",
      "1       1.000000e-08\n",
      "2       1.000000e-08\n",
      "3       4.545464e-03\n",
      "4       1.159091e+00\n",
      "5       1.214545e+00\n",
      "6       1.662727e+00\n",
      "7       9.381818e-01\n",
      "8       2.799091e+00\n",
      "9       4.518182e-01\n",
      "10      6.309091e-01\n",
      "11      8.718182e-01\n",
      "12      1.254546e-01\n",
      "13      2.212727e+00\n",
      "14      5.693636e+00\n",
      "15      5.303637e+00\n",
      "16      1.230909e+00\n",
      "17      1.872727e+00\n",
      "18      1.727274e-02\n",
      "19      5.045455e-01\n",
      "20      6.581818e-01\n",
      "21      5.745454e-01\n",
      "22      5.900000e-01\n",
      "23      1.137273e+00\n",
      "24      7.736364e-01\n",
      "25      1.413636e+00\n",
      "26      3.590909e-01\n",
      "27      2.227273e-01\n",
      "28      6.363646e-03\n",
      "29      2.272728e-02\n",
      "            ...     \n",
      "4938    6.363646e-03\n",
      "4939    6.718182e-01\n",
      "4940    7.281818e-01\n",
      "4941    3.372727e-01\n",
      "4942    1.054545e-01\n",
      "4943    7.072727e-01\n",
      "4944    2.209091e-01\n",
      "4945    2.727283e-03\n",
      "4946    1.454546e-02\n",
      "4947    2.272727e-01\n",
      "4948    1.457273e+00\n",
      "4949    1.364545e+00\n",
      "4950    1.530909e+00\n",
      "4951    2.881818e-01\n",
      "4952    2.336364e-01\n",
      "4953    6.118182e-01\n",
      "4954    5.200000e-01\n",
      "4955    1.230000e+00\n",
      "4956    1.551818e+00\n",
      "4957    3.827273e-01\n",
      "4958    7.118182e-01\n",
      "4959    5.263636e-01\n",
      "4960    4.210000e+00\n",
      "4961    2.845455e+00\n",
      "4962    2.626364e+00\n",
      "4963    4.845454e-01\n",
      "4964    2.727274e-02\n",
      "4965    3.181819e-02\n",
      "4966    1.244545e+00\n",
      "4967    7.136363e-01\n",
      "Name: rain, Length: 4968, dtype: float32\n"
     ]
    }
   ],
   "source": [
    "# I need to convert all the zeros to a positive number\n",
    "# to use in the Kullback_Leibler divergence computation\n",
    "# I can't have zero as the denominator\n",
    "\n",
    "earrayRainplusone = earrayRain + 0.00000001\n",
    "sarrayRainplusone = sarrayRain + 0.00000001\n",
    "print(earrayRainplusone)\n",
    "print(sarrayRainplusone)"
   ]
  },
  {
   "cell_type": "code",
   "execution_count": 23,
   "metadata": {},
   "outputs": [
    {
     "name": "stdout",
     "output_type": "stream",
     "text": [
      "Model 1:  35785.6335\n",
      "Model 2:  10004.6366\n"
     ]
    }
   ],
   "source": [
    "# the Kullback–Leibler divergence (also called relative entropy) y variable\n",
    "# is a measure of how one probability distribution is different \n",
    "# from a second, reference probability distribution.\n",
    "\n",
    "# Kullback-Leibler = Σ(x(log(x/y)))\n",
    "\n",
    "import numpy as np\n",
    "\n",
    "kl1 = (earrayRain * np.log(earrayRainplusone/sarrayRainplusone)).sum()\n",
    "print( \"Model 1: \", round(kl1, 4))\n",
    "\n",
    "kl2 = (sarrayRain * np.log(sarrayRainplusone/earrayRainplusone)).sum()\n",
    "print(\"Model 2: \", round(kl2, 4))"
   ]
  },
  {
   "cell_type": "code",
   "execution_count": 25,
   "metadata": {},
   "outputs": [],
   "source": [
    "# import the necessary packages to make some nice plots\n",
    "\n",
    "import matplotlib.pyplot as plt\n",
    "import scipy.stats as stats\n",
    "import seaborn as sns\n",
    "\n",
    "# %matplotlib inline sets the backend of matplotlib to the 'inline' backend: With this backend, \n",
    "# the output of plotting commands is displayed inline within frontends like the Jupyter notebook, \n",
    "# directly below the code cell that produced it.\n",
    "\n",
    "%matplotlib inline"
   ]
  },
  {
   "cell_type": "code",
   "execution_count": 26,
   "metadata": {},
   "outputs": [
    {
     "data": {
      "image/png": "[encoded data removed]",
      "text/plain": [
       "<Figure size 432x288 with 1 Axes>"
      ]
     },
     "metadata": {},
     "output_type": "display_data"
    }
   ],
   "source": [
    "# this graph compares densities of each unique value of rainfall\n",
    "\n",
    "sns.set_style('whitegrid')\n",
    "ax = sns.kdeplot(earrayRain, bw=0, color = 'red', shade = 'true')\n",
    "ax = sns.kdeplot(sarrayRain, bw=0, color = 'green', shade = 'true')"
   ]
  },
  {
   "cell_type": "code",
   "execution_count": 27,
   "metadata": {},
   "outputs": [
    {
     "data": {
      "image/png": "[encoded data removed]",
      "text/plain": [
       "<Figure size 432x288 with 1 Axes>"
      ]
     },
     "metadata": {},
     "output_type": "display_data"
    }
   ],
   "source": [
    "# this graph compares densities of each unique value of rainfall\n",
    "# for any variable\n",
    "\n",
    "variable = \"rain\"\n",
    "earray = ensemble_df_mean[variable]\n",
    "sarray = silo216_df[variable]\n",
    "\n",
    "sns.set_style('whitegrid')\n",
    "ax = sns.kdeplot(earray, bw=0, color = 'red', shade = 'true')\n",
    "ax = sns.kdeplot(sarray, bw=0, color = 'green', shade = 'true')"
   ]
  },
  {
   "cell_type": "code",
   "execution_count": 29,
   "metadata": {},
   "outputs": [
    {
     "name": "stdout",
     "output_type": "stream",
     "text": [
      "[1.2, 1.2, 1.7, 0.9, 2.8, 0.5, 0.6, 0.9, 0.1, 2.2, 5.7, 5.3, 1.2, 1.9, 0.5, 0.7, 0.6, 0.6, 1.1, 0.8, 1.4, 0.4, 0.2, 1.4, 1.3, 3.9, 0.6, 0.6, 0.3, 0.8, 0.4, 0.6, 1.4, 1.0, 0.3, 0.3, 0.6, 0.5, 0.9, 0.3, 1.4, 0.9, 1.3, 1.5, 0.8, 2.1, 0.7, 2.1, 0.3, 1.6, 0.5, 1.0, 0.3, 2.1, 3.0, 2.6, 3.0, 2.2, 1.3, 3.6, 1.3, 0.2, 0.6, 0.3, 0.7, 0.9, 1.7, 0.5, 0.7, 1.2, 0.3, 0.8, 0.8, 0.5, 0.7, 1.3, 1.8, 1.2, 0.6, 0.4, 1.0, 1.1, 1.0, 0.2, 3.1, 1.6, 1.9, 0.4, 0.5, 0.5, 1.7, 1.9, 1.2, 0.5, 0.5, 0.5, 1.0, 0.4, 0.3, 0.2, 0.5, 1.8, 0.8, 1.0, 1.2, 1.0, 0.3, 1.4, 0.5, 1.7, 0.4, 0.6, 0.5, 0.2, 0.2, 0.7, 0.7, 0.5, 0.4, 0.9, 0.8, 0.9, 1.1, 0.1, 1.4, 0.7, 0.1, 0.8, 0.2, 0.6, 0.2, 1.5, 1.2, 0.6, 1.3, 1.6, 0.2, 2.3, 1.5, 2.4, 1.3, 3.1, 4.3, 2.5, 1.1, 6.3, 1.9, 0.9, 2.0, 1.4, 0.3, 1.7, 3.5, 3.8, 1.7, 0.4, 1.4, 1.7, 2.5, 0.2, 0.6, 0.6, 1.8, 0.6, 2.3, 0.9, 1.1, 3.0, 2.1, 0.8, 0.9, 2.0, 0.2, 0.3, 0.3, 1.0, 1.5, 0.2, 0.2, 0.9, 1.3, 0.8, 1.0, 1.4, 5.4, 3.6, 1.1, 0.4, 0.3, 0.3, 0.4, 0.2, 1.4, 0.2, 0.4, 0.7, 0.2, 0.9, 0.2, 0.3, 3.3, 1.7, 0.6, 1.1, 0.5, 0.6, 0.3, 0.8, 2.3, 2.4, 1.4, 0.1, 0.2, 0.2, 0.4, 0.5, 0.1, 0.3, 1.6, 1.9, 0.8, 0.6, 0.3, 1.3, 0.4, 0.7, 0.2, 0.8, 1.1, 0.8, 0.9, 2.5, 0.6, 0.3, 0.4, 0.3, 1.9, 0.5, 0.3, 0.7, 1.4, 0.6, 1.8, 0.7, 1.1, 1.4, 0.4, 3.2, 0.9, 0.2, 0.2, 0.1, 0.1, 0.4, 2.3, 1.3, 0.7, 0.1, 0.2, 1.5, 0.1, 0.6, 1.1, 1.6, 0.5, 1.7, 1.3, 0.6, 0.4, 1.0, 0.3, 0.3, 1.5, 1.2, 2.0, 2.6, 0.7, 0.6, 1.7, 0.7, 0.5, 0.7, 0.8, 1.0, 0.9, 0.4, 0.3, 1.0, 1.0, 0.2, 1.0, 0.6, 0.5, 0.4, 0.7, 0.3, 0.3, 0.1, 0.6, 0.3, 0.8, 1.0, 0.7, 0.2, 1.0, 1.1, 0.3, 1.0, 0.2, 0.2, 0.4, 1.0, 1.0, 0.4, 1.4, 1.5, 1.0, 0.4, 1.1, 0.2, 1.7, 3.1, 2.6, 1.0, 0.6, 0.7, 0.2, 0.2, 1.1, 1.7, 0.4, 2.1, 0.8, 0.4, 0.1, 0.2, 0.1, 1.5, 0.7, 0.8, 0.7, 0.6, 0.7, 0.5, 0.7, 1.1, 0.3, 0.7, 0.2, 1.4, 0.3, 0.1, 1.0, 1.4, 1.0, 1.7, 0.2, 1.6, 1.3, 0.4, 1.3, 1.8, 1.3, 0.2, 0.6, 0.7, 0.5, 0.4, 1.0, 2.9, 1.1, 1.1, 1.4, 3.3, 2.7, 0.9, 0.5, 0.4, 0.5, 2.5, 0.8, 1.2, 1.4, 1.9, 1.4, 3.9, 0.6, 1.2, 5.7, 0.5, 0.6, 1.2, 2.7, 1.3, 2.9, 1.0, 2.4, 1.5, 0.4, 0.3, 0.2, 0.6, 0.5, 0.5, 0.7, 0.3, 1.5, 0.3, 0.4, 0.4, 3.5, 1.2, 0.4, 0.3, 0.2, 0.2, 0.4, 1.4, 1.0, 1.1, 0.1, 1.1, 0.8, 0.6, 0.7, 1.9, 1.9, 0.8, 2.1, 3.3, 2.0, 1.2, 0.3, 0.2, 1.0, 0.7, 0.4, 1.5, 1.7, 3.5, 2.9, 2.5, 0.8, 2.8, 3.0, 1.1, 2.7, 1.6, 0.9, 1.9, 2.1, 5.4, 1.7, 0.6, 2.3, 0.5, 0.9, 0.7, 1.2, 1.9, 1.4, 1.1, 0.7, 1.2, 1.7, 0.3, 0.3, 1.5, 0.5, 2.1, 0.8, 1.6, 1.8, 0.5, 0.4, 2.6, 1.8, 1.1, 1.7, 1.5, 1.5, 0.4, 2.0, 1.6, 1.3, 0.1, 0.9, 0.6, 0.7, 1.8, 1.1, 1.3, 1.0, 1.8, 2.1, 1.0, 0.6, 0.2, 1.1, 1.3, 0.8, 0.7, 0.9, 1.7, 0.6, 0.4, 1.7, 1.0, 0.7, 2.0, 0.6, 2.0, 0.5, 1.5, 0.4, 0.6, 1.7, 0.7, 1.3, 0.4, 2.0, 1.7, 1.1, 0.2, 0.3, 0.2, 1.1, 0.5, 0.2, 1.5, 0.5, 3.9, 1.0, 2.1, 2.1, 0.3, 2.9, 2.9, 0.5, 0.8, 0.5, 0.6, 0.9, 0.2, 0.6, 1.7, 0.1, 0.5, 0.4, 2.1, 1.6, 0.2, 2.6, 1.4, 0.2, 0.3, 0.7, 0.7, 3.2, 0.6, 0.9, 0.6, 0.2, 0.4, 0.7, 1.1, 0.5, 0.4, 2.3, 0.5, 0.4, 1.2, 0.8, 0.3, 0.4, 0.4, 1.9, 1.1, 0.2, 0.1, 0.2, 0.3, 0.7, 0.2, 0.8, 0.1, 0.2, 0.9, 0.3, 0.1, 0.9, 1.5, 0.9, 0.2, 0.2, 0.6, 1.5, 0.3, 0.5, 1.5, 0.7, 2.9, 3.8, 1.6, 1.3, 1.7, 3.3, 2.3, 1.0, 0.5, 0.6, 1.0, 0.9, 3.1, 0.7, 2.5, 2.1, 1.1, 2.8, 0.9, 1.9, 1.0, 1.2, 1.7, 1.1, 0.9, 4.4, 2.4, 2.0, 1.3, 4.7, 3.4, 5.0, 1.3, 0.2, 0.9, 0.4, 0.7, 0.4, 0.7, 2.1, 1.8, 1.0, 1.0, 1.3, 1.0, 0.4, 1.0, 0.5, 0.9, 0.4, 2.4, 2.2, 1.1, 0.8, 1.4, 1.3, 0.7, 0.3, 0.5, 1.2, 2.1, 0.5, 0.7, 1.8, 3.1, 1.3, 1.3, 0.3, 0.5, 1.5, 1.6, 0.8, 0.8, 0.9, 0.5, 0.9, 0.2, 1.6, 0.3, 0.9, 0.7, 0.7, 0.6, 0.6, 0.5, 0.4, 0.1, 0.2, 0.5, 0.2, 0.1, 0.5, 0.4, 1.1, 0.6, 1.1, 0.3, 0.3, 0.2, 1.0, 0.7, 0.2, 1.2, 0.5, 0.8, 1.3, 2.0, 3.6, 0.5, 1.7, 0.1, 0.4, 0.7, 0.8, 0.8, 2.1, 0.8, 0.3, 1.8, 0.9, 1.6, 0.5, 1.6, 3.0, 0.6, 1.0, 1.0, 1.8, 0.8, 1.4, 1.1, 1.0, 1.4, 0.4, 0.4, 1.7, 3.0, 0.7, 0.8, 0.5, 0.4, 2.1, 1.7, 0.3, 0.3, 1.7, 1.7, 0.2, 1.5, 1.7, 0.4, 0.9, 3.2, 1.3, 0.5, 2.9, 1.1, 2.3, 0.5, 0.5, 1.0, 2.5, 2.1, 1.9, 1.0, 2.7, 0.3, 3.3, 2.1, 0.4, 0.6, 0.2, 0.3, 0.1, 0.2, 0.5, 0.8, 1.2, 0.2, 0.5, 0.4, 0.2, 0.2, 1.6, 0.6, 0.1, 0.8, 0.2, 1.6, 0.6, 1.1, 1.3, 0.7, 0.1, 0.8, 0.3, 0.4, 0.5, 0.2, 1.1, 0.5, 0.2, 0.5, 0.3, 0.8, 0.3, 0.3, 0.1, 0.2, 0.1, 0.4, 0.2, 1.5, 0.5, 0.5, 0.4, 1.8, 0.7, 0.2, 0.3, 0.7, 0.1, 0.1, 0.2, 0.7, 0.6, 1.2, 0.9, 1.6, 1.5, 1.0, 0.7, 0.6, 0.4, 0.8, 0.4, 0.6, 1.6, 0.5, 0.2, 0.4, 1.0, 0.9, 2.4, 0.5, 1.6, 1.2, 1.1, 0.2, 0.4, 2.0, 0.6, 0.1, 0.9, 0.3, 1.2, 1.1, 0.1, 0.7, 0.6, 0.3, 1.1, 0.4, 0.2, 0.9, 0.9, 1.0, 0.9, 0.4, 0.7, 0.1, 1.4, 1.3, 1.6, 0.3, 2.0, 0.2, 0.9, 0.8, 0.6, 0.3, 0.2, 0.4, 0.3, 0.6, 0.2, 0.2, 0.9, 2.7, 0.5, 0.8, 1.0, 0.2, 1.6, 1.3, 0.2, 1.4, 0.4, 2.4, 3.3, 0.3, 1.3, 3.6, 1.6, 1.3, 0.9, 0.5, 0.9, 0.4, 1.1, 0.7, 1.2, 0.5, 0.9, 2.5, 1.5, 1.9, 1.2, 1.7, 0.4, 0.2, 1.5, 1.6, 0.3, 0.7, 1.1, 0.7, 0.5, 1.2, 1.5, 0.4, 1.3, 2.1, 0.6, 0.5, 1.2, 1.2, 0.9, 0.9, 0.6, 0.6, 1.0, 0.2, 0.4, 0.2, 0.3, 1.0, 0.6, 0.9, 1.3, 0.6, 0.1, 0.4, 0.7, 0.1, 0.2, 0.2, 0.2, 0.5, 1.2, 0.1, 1.2, 0.5, 1.3, 0.4, 0.2, 0.4, 0.2, 0.5, 1.4, 1.6, 0.5, 0.2, 0.5, 2.0, 1.6, 3.7, 2.2, 0.9, 0.7, 0.4, 2.0, 2.3, 1.1, 1.0, 1.7, 5.0, 1.1, 0.8, 2.8, 0.4, 1.8, 0.6, 1.0, 0.8, 0.2, 0.4, 0.2, 0.8, 1.4, 1.8, 2.1, 0.4, 0.5, 0.2, 0.8, 0.6, 0.3, 0.3, 0.2, 0.1, 0.1, 0.3, 0.3, 1.3, 1.2, 1.4, 0.5, 1.0, 0.4, 1.2, 1.0, 0.8, 0.9, 1.0, 1.0, 0.6, 0.4, 2.7, 0.9, 0.7, 1.6, 0.6, 0.8, 0.9, 0.9, 0.6, 0.3, 0.5, 1.3, 0.5, 0.5, 0.5, 0.9, 2.4, 0.9, 0.4, 1.1, 0.8, 1.1, 1.1, 0.2, 0.2, 0.9, 1.0, 1.1, 1.1, 0.9, 0.2, 0.3, 0.4, 0.4, 0.2, 1.1, 0.1, 0.6, 0.2, 1.2, 0.9, 0.6, 0.8, 0.5, 0.6, 0.3, 0.3, 0.9, 2.1, 1.4, 0.2, 1.2, 1.1, 2.8, 1.6, 0.5, 0.5, 1.8, 0.6, 1.2, 2.7, 1.8, 1.2, 0.9, 1.7, 0.4, 0.2, 1.0, 1.0, 0.2, 0.1, 1.0, 1.5, 1.5, 1.5, 2.1, 0.7, 1.3, 0.6, 0.9, 0.4, 0.2, 0.7, 1.7, 0.7, 1.0, 1.1, 0.3, 1.2, 0.2, 2.6, 0.3, 0.6, 0.9, 0.9, 0.2, 0.2, 0.2, 0.2, 0.8, 3.5, 0.2, 0.3, 0.2, 0.1, 0.6, 0.1, 0.5, 0.6, 2.3, 0.7, 0.3, 0.2, 2.0, 1.1, 0.4, 0.2, 0.2, 1.2, 1.2, 0.2, 0.5, 0.3, 0.3, 0.2, 0.4, 0.3, 0.3, 0.2, 0.6, 0.2, 0.2, 0.3, 2.3, 0.3, 0.3, 0.5, 0.7, 1.2, 0.6, 1.5, 0.3, 1.8, 0.5, 0.4, 2.6, 0.2, 1.3, 0.2, 1.4, 2.9, 1.1, 2.0, 0.8, 0.5, 0.3, 0.4, 1.4, 0.9, 0.6, 0.2, 1.0, 0.3, 0.8, 1.1, 1.0, 0.6, 1.1, 0.7, 0.4, 0.3, 0.3, 1.6, 0.8, 0.1, 0.3, 1.3, 0.8, 0.5, 0.9, 0.6, 1.5, 2.0, 2.4, 1.9, 2.1, 1.5, 0.9, 1.2, 1.0, 1.1, 0.9, 0.4, 0.8, 0.5, 0.3, 0.4, 1.8, 0.7, 0.4, 1.3, 0.5, 0.6, 0.8, 0.8, 0.8, 1.9, 4.0, 3.7, 2.5, 0.6, 2.1, 3.6, 3.7, 1.6, 1.0, 2.9, 2.1, 0.1, 0.3, 0.8, 1.1, 2.6, 1.8, 0.5, 0.6, 0.1, 0.4, 0.8, 0.8, 3.5, 1.3, 2.6, 2.0, 4.3, 0.2, 0.5, 1.6, 0.9, 0.6, 0.8, 1.3, 0.6, 1.8, 0.8, 1.6, 0.3, 0.7, 0.5, 1.9, 2.3, 0.3, 1.3, 0.4, 0.9, 0.7, 1.5, 0.3, 0.6, 0.6, 0.3, 0.6, 0.3, 0.5, 1.2, 1.4, 1.0, 0.3, 0.2, 1.4, 1.2, 0.4, 1.7, 1.4, 1.0, 0.2, 2.4, 0.9, 0.9, 0.6, 0.6, 0.9, 0.5, 0.5, 0.2, 0.4, 0.4, 2.0, 1.2, 0.4, 1.3, 0.7, 1.8, 1.2, 0.1, 0.8, 0.9, 2.4, 0.6, 0.5, 0.2, 0.3, 0.6, 0.4, 1.1, 0.5, 0.4, 2.1, 0.1, 0.5, 0.3, 0.4, 0.6, 2.3, 0.8, 0.6, 1.0, 0.3, 1.0, 0.4, 0.1, 0.5, 1.1, 0.6, 1.0, 2.2, 0.9, 0.4, 0.2, 0.8, 0.5, 1.2, 0.6, 0.7, 0.3, 0.6, 0.3, 0.4, 0.8, 2.7, 1.1, 2.7, 0.3, 0.4, 1.3, 1.9, 0.6, 3.0, 1.5, 1.5, 0.9, 2.5, 2.8, 6.1, 2.2, 1.0, 0.5, 0.8, 0.7, 1.8, 0.8, 0.4, 1.6, 0.8, 0.6, 1.2, 1.4, 1.7, 1.3, 1.2, 0.7, 0.9, 1.1, 0.7, 2.6, 1.2, 0.6, 1.5, 0.6, 0.6, 1.8, 0.3, 1.9, 2.6, 1.5, 1.1, 2.9, 1.5, 1.6, 0.5, 0.5, 1.8, 0.4, 0.2, 0.5, 0.5, 1.0, 1.7, 0.7, 0.4, 1.0, 0.8, 0.7, 0.9, 0.3, 1.2, 1.2, 1.2, 0.1, 0.5, 0.8, 0.7, 0.8, 0.9, 1.2, 1.5, 0.3, 1.2, 1.3, 1.9, 0.6, 0.2, 2.1, 1.2, 1.7, 0.4, 0.6, 1.3, 1.4, 1.1, 0.9, 0.7, 0.7, 0.3, 0.1, 0.4, 2.6, 2.0, 3.5, 0.4, 0.8, 3.3, 0.1, 1.1, 1.6, 1.4, 1.3, 0.3, 1.2, 3.0, 1.8, 0.1, 1.7, 0.5, 0.9, 0.3, 1.5, 2.5, 0.9, 0.5, 0.1, 0.2, 0.3, 0.1, 0.6, 0.6, 0.6, 0.4, 0.3, 1.3, 0.9, 0.6, 0.3, 0.1, 0.7, 1.3, 1.4, 1.6, 1.1, 0.9, 0.6, 0.6, 0.1, 1.6, 0.9, 0.7, 0.3, 0.1, 3.9, 0.9, 0.5, 2.6, 1.7, 5.6, 7.9, 2.5, 2.8, 0.5, 0.7, 0.3, 0.2, 0.4, 0.6, 0.1, 0.8, 0.4, 1.4, 0.1, 0.3, 0.5, 0.2, 1.4, 1.2, 0.8, 0.9, 1.6, 0.5, 0.5, 0.2, 1.1, 0.7, 1.5, 2.0, 3.0, 1.9, 3.2, 2.6, 0.9, 0.8, 0.5, 1.9, 1.2, 7.1, 1.0, 0.8, 0.9, 4.3, 1.9, 0.9, 1.6, 1.3, 1.9, 1.6, 0.2, 4.5, 3.1, 3.1, 3.2, 3.1, 1.1, 0.6, 0.3, 0.9, 0.9, 1.0, 2.1, 2.8, 2.5, 1.3, 1.3, 0.6, 0.4, 0.6, 1.0, 0.8, 1.3, 2.7, 3.0, 4.0, 1.5, 3.0, 1.5, 0.8, 0.6, 2.1, 3.0, 2.8, 0.7, 3.1, 1.5, 0.7, 2.7, 1.9, 1.6, 0.3, 0.2, 0.7, 0.2, 1.6, 2.1, 0.8, 0.5, 2.2, 1.0, 2.8, 1.1, 1.4, 0.9, 0.5, 2.6, 1.7, 0.6, 0.5, 2.4, 1.4, 1.2, 0.6, 0.2, 0.5, 2.8, 0.5, 1.2, 0.8, 0.4, 3.3, 2.4, 1.0, 1.3, 3.3, 4.3, 0.9, 0.4, 1.4, 6.8, 1.1, 0.9, 2.5, 0.9, 2.4, 3.2, 1.5, 1.0, 1.9, 1.5, 1.6, 2.3, 0.5, 1.1, 1.1, 1.5, 0.6, 1.6, 2.3, 1.8, 0.2, 1.8, 4.0, 2.2, 0.5, 2.7, 1.3, 0.6, 4.9, 2.3, 1.2, 0.7, 1.6, 1.1, 1.0, 0.2, 1.6, 1.5, 0.9, 0.4, 0.4, 0.8, 1.1, 1.0, 3.0, 4.6, 1.5, 3.6, 3.0, 1.0, 1.7, 0.7, 1.7, 3.3, 1.8, 1.5, 3.7, 2.2, 0.8, 10.7, 1.1, 0.9, 0.2, 0.8, 0.4, 0.8, 1.7, 0.9, 0.7, 0.4, 0.1, 0.5, 0.1, 1.7, 0.8, 0.7, 1.3, 0.2, 2.6, 0.5, 0.8, 0.2, 3.5, 1.3, 0.7, 0.5, 1.1, 1.6, 0.9, 0.4, 0.1, 1.9, 0.5, 0.4, 0.6, 1.2, 1.7, 0.8, 1.1, 0.5, 0.4, 0.3, 0.4, 0.1, 1.0, 0.8, 0.9, 0.5, 0.8, 0.3, 2.8, 3.0, 0.9, 0.4, 1.3, 0.8, 0.9, 0.2, 0.6, 0.5, 0.3, 0.3, 1.4, 1.4, 1.0, 0.8, 0.5, 0.5, 1.2, 2.1, 1.4, 1.0, 0.9, 0.4, 1.3, 1.5, 1.4, 0.1, 0.3, 1.6, 0.5, 3.4, 2.9, 0.7, 1.3, 1.7, 0.3, 0.7, 1.0, 0.9, 0.5, 0.8, 1.8, 2.2, 3.2, 0.9, 2.3, 1.4, 2.1, 1.8, 0.8, 1.2, 0.4, 0.8, 0.8, 1.3, 1.9, 1.0, 1.8, 0.6, 0.6, 0.2, 0.1, 2.3, 1.0, 1.0, 1.9, 0.3, 0.7, 0.7, 1.2, 2.5, 3.4, 0.4, 0.3, 1.0, 2.0, 1.3, 1.9, 1.7, 0.8, 1.1, 1.8, 1.1, 2.4, 1.3, 1.1, 0.3, 0.9, 1.3, 1.3, 1.2, 1.5, 0.6, 0.9, 0.5, 0.7, 1.3, 0.8, 2.4, 0.6, 2.7, 1.9, 2.7, 2.9, 1.4, 3.0, 3.3, 1.5, 1.5, 3.1, 3.8, 2.9, 1.0, 0.8, 3.3, 2.4, 2.4, 0.8, 1.7, 2.7, 1.5, 3.6, 1.0, 1.9, 0.6, 0.3, 1.0, 1.9, 3.2, 1.9, 2.1, 0.9, 2.4, 0.4, 0.5, 3.1, 4.0, 4.1, 3.9, 1.2, 0.7, 0.3, 0.2, 0.2, 1.0, 0.8, 0.3, 0.6, 0.8, 0.3, 0.2, 0.4, 1.0, 0.9, 1.3, 1.6, 0.4, 0.2, 1.5, 0.2, 1.3, 3.1, 1.4, 2.6, 2.5, 0.4, 0.2, 0.4, 0.1, 0.3, 0.4, 0.3, 2.2, 2.3, 0.8, 1.1, 0.8, 0.3, 0.2, 0.6, 0.2, 0.3, 1.0, 0.2, 1.8, 1.4, 0.1, 0.5, 0.7, 1.3, 0.5, 0.2, 0.4, 0.7, 3.8, 0.8, 0.1, 0.6, 0.7, 0.6, 0.3, 0.1, 0.4, 0.3, 1.4, 1.1, 0.6, 2.0, 0.8, 0.6, 0.7, 0.5, 0.6, 0.9, 1.2, 1.4, 0.4, 1.1, 0.9, 0.8, 0.3, 1.2, 1.3, 2.6, 1.2, 1.1, 0.9, 1.0, 2.5, 0.4, 2.0, 0.8, 0.5, 0.3, 0.7, 1.5, 1.2, 0.9, 0.6, 1.0, 0.9, 0.5, 0.3, 0.8, 0.4, 0.7, 0.2, 0.7, 2.4, 0.2, 0.7, 1.3, 0.6, 0.7, 1.5, 2.1, 0.4, 0.5, 0.2, 0.2, 0.2, 0.3, 0.1, 0.4, 0.8, 2.6, 1.8, 0.5, 1.0, 2.7, 1.3, 0.1, 0.4, 2.8, 2.1, 0.3, 0.4, 0.2, 1.1, 0.5, 0.3, 0.9, 0.8, 0.1, 0.1, 1.0, 1.1, 1.3, 0.4, 0.7, 1.0, 0.9, 0.5, 2.9, 1.1, 0.6, 1.1, 0.5, 1.7, 1.3, 3.4, 1.0, 0.2, 0.5, 0.6, 0.2, 0.4, 0.3, 1.0, 1.7, 1.1, 1.1, 0.5, 0.3, 1.7, 1.8, 0.9, 0.5, 1.7, 0.6, 0.5, 4.1, 0.9, 1.1, 0.3, 0.5, 0.4, 0.3, 0.2, 0.6, 2.1, 0.2, 0.9, 0.6, 0.3, 0.4, 1.1, 0.4, 2.5, 3.9, 0.2, 0.2, 0.6, 0.4, 0.6, 0.5, 0.9, 1.1, 0.1, 0.9, 0.9, 1.1, 0.3, 0.7, 0.7, 0.1, 0.7, 0.6, 1.0, 0.2, 1.0, 0.5, 1.0, 1.2, 1.7, 1.0, 0.4, 0.2, 0.3, 0.7, 0.5, 0.8, 0.9, 1.9, 0.5, 1.5, 0.2, 0.3, 1.3, 0.9, 0.6, 0.2, 0.5, 1.0, 0.4, 0.3, 1.1, 1.1, 0.4, 0.6, 0.4, 1.3, 0.7, 0.7, 1.3, 0.9, 0.5, 0.8, 1.2, 1.5, 1.4, 0.2, 1.0, 1.7, 0.6, 1.4, 0.6, 0.3, 0.5, 0.3, 1.3, 0.4, 0.4, 0.5, 1.1, 0.4, 0.4, 0.3, 0.2, 0.2, 0.2, 0.3, 0.9, 0.2, 0.2, 0.5, 0.5, 0.8, 0.8, 0.2, 0.5, 2.0, 0.8, 0.2, 0.2, 1.0, 0.3, 0.7, 1.2, 0.6, 0.7, 3.9, 2.8, 0.3, 2.9, 4.6, 0.7, 0.4, 0.7, 3.6, 1.4, 3.0, 0.2, 0.5, 1.2, 0.2, 1.0, 2.6, 0.9, 0.7, 0.2, 2.0, 2.4, 0.6, 0.8, 0.3, 0.7, 2.5, 1.8, 0.4, 1.3, 0.2, 0.5, 2.8, 2.3, 0.7, 1.2, 2.3, 1.3, 1.2, 0.4, 0.2, 1.8, 0.4, 0.8, 1.9, 0.3, 0.2, 0.1, 0.4, 0.6, 0.4, 0.4, 0.7, 2.2, 4.2, 2.2, 0.8, 3.2, 2.5, 1.2, 0.3, 0.1, 0.5, 0.7, 0.5, 1.8, 0.1, 1.0, 2.7, 1.1, 0.3, 1.7, 1.1, 1.2, 0.5, 0.9, 0.2, 0.2, 0.4, 0.6, 1.3, 0.8, 0.2, 0.1, 1.1, 0.8, 0.2, 0.8, 0.5, 1.0, 0.6, 0.4, 1.1, 1.2, 0.5, 0.3, 0.7, 2.0, 1.5, 2.0, 0.7, 0.4, 1.2, 1.9, 0.3, 0.4, 1.4, 0.6, 0.6, 0.1, 4.2, 1.7, 1.4, 0.8, 1.7, 0.3, 2.4, 1.1, 1.3, 0.6, 5.1, 1.0, 0.6, 0.7, 0.4, 1.2, 1.4, 2.2, 1.1, 1.6, 1.6, 0.5, 0.6, 1.0, 0.3, 0.7, 1.9, 0.6, 0.4, 1.2, 0.4, 0.5, 0.6, 2.3, 2.4, 3.5, 0.5, 2.2, 1.5, 0.6, 2.7, 0.5, 2.3, 1.4, 0.6, 0.2, 0.3, 1.5, 1.1, 0.6, 2.2, 1.0, 0.8, 0.3, 0.3, 0.4, 1.1, 1.2, 1.1, 0.5, 0.6, 0.4, 0.8, 1.9, 0.7, 0.8, 0.6, 0.1, 1.3, 0.7, 1.0, 3.3, 3.1, 1.3, 2.5, 0.7, 2.2, 1.9, 1.2, 0.2, 1.8, 2.3, 2.0, 0.8, 1.8, 2.1, 0.3, 1.7, 2.6, 1.3, 0.9, 1.3, 0.6, 0.6, 1.2, 1.5, 0.5, 0.6, 1.1, 0.2, 0.4, 0.3, 0.4, 0.6, 0.9, 0.7, 1.9, 0.7, 0.6, 0.5, 1.3, 0.3, 1.0, 2.7, 0.1, 0.5, 2.0, 0.8, 1.9, 2.6, 0.1, 0.8, 2.3, 1.8, 2.1, 2.5, 0.8, 2.4, 1.5, 0.4, 2.0, 1.1, 0.4, 0.4, 0.4, 0.4, 0.5, 0.1, 0.5, 0.9, 0.7, 1.2, 1.2, 0.3, 0.8, 0.4, 0.4, 1.1, 1.3, 0.7, 0.6, 1.1, 1.8, 0.1, 0.3, 0.7, 0.6, 1.3, 0.6, 0.8, 0.8, 1.6, 2.0, 0.4, 0.2, 0.8, 0.2, 0.7, 2.3, 0.4, 0.5, 0.7, 0.1, 0.6, 0.6, 0.3, 0.6, 1.2, 2.8, 0.3, 0.4, 0.3, 1.3, 1.3, 0.7, 0.4, 1.3, 0.5, 0.3, 1.7, 0.5, 0.3, 1.7, 0.7, 1.7, 0.1, 0.3, 1.4, 0.3, 0.6, 1.9, 0.3, 2.3, 1.6, 1.0, 0.8, 1.2, 0.1, 0.8, 0.9, 2.0, 1.4, 1.0, 0.2, 1.6, 1.6, 2.2, 1.1, 1.8, 0.5, 1.3, 0.3, 0.3, 0.7, 2.0, 1.2, 2.2, 0.9, 1.1, 1.8, 0.6, 1.2, 2.7, 0.6, 1.6, 1.2, 1.4, 1.2, 0.7, 0.5, 0.7, 0.1, 1.5, 2.0, 2.2, 1.4, 1.4, 0.2, 0.9, 0.9, 0.5, 0.3, 0.6, 0.3, 0.8, 0.3, 0.6, 1.1, 1.2, 0.8, 1.1, 1.0, 0.7, 0.2, 0.7, 0.4, 2.4, 2.2, 0.4, 0.2, 0.5, 2.0, 0.3, 0.6, 1.4, 0.1, 2.2, 3.0, 0.3, 2.8, 0.7, 0.4, 0.6, 2.1, 1.4, 2.1, 4.9, 0.7, 0.5, 4.6, 0.6, 0.8, 0.6, 2.3, 0.4, 0.5, 0.6, 0.3, 0.7, 2.2, 1.3, 1.6, 0.9, 0.7, 0.7, 0.7, 1.1, 1.0, 3.0, 5.6, 0.7, 2.0, 0.5, 0.2, 3.0, 0.6, 1.5, 0.2, 1.1, 2.1, 0.1, 0.1, 1.1, 1.0, 0.9, 0.5, 0.6, 1.2, 0.8, 0.9, 0.8, 1.9, 1.7, 1.6, 0.2, 1.3, 0.5, 0.4, 0.4, 3.8, 0.2, 1.1, 1.1, 0.2, 0.5, 0.6, 1.0, 1.3, 0.4, 0.5, 0.2, 0.6, 0.7, 0.3, 0.4, 0.5, 0.3, 0.6, 2.0, 0.8, 0.6, 0.5, 0.2, 0.2, 0.4, 1.0, 1.0, 0.5, 0.8, 0.1, 0.5, 0.5, 0.2, 0.5, 0.4, 0.3, 0.4, 1.1, 0.5, 0.3, 1.0, 1.1, 0.6, 2.2, 2.5, 3.0, 1.7, 0.7, 1.7, 2.8, 0.2, 2.9, 0.6, 1.4, 0.7, 0.2, 0.8, 3.4, 2.1, 2.4, 0.4, 0.6, 0.5, 0.9, 0.2, 1.3, 0.7, 0.5, 1.1, 0.8, 0.9, 1.6, 0.9, 1.0, 1.1, 0.2, 2.7, 1.2, 0.8, 0.5, 1.2, 0.6, 1.6, 2.2, 1.8, 0.9, 1.4, 0.3, 0.8, 0.7, 0.6, 0.8, 1.2, 3.8, 2.5, 0.5, 1.6, 1.0, 0.8, 2.1, 1.1, 0.4, 0.6, 2.1, 0.4, 1.0, 1.9, 0.4, 0.4, 0.6, 1.4, 0.3, 0.7, 1.7, 1.8, 1.3, 1.2, 1.2, 0.6, 1.1, 1.3, 1.7, 0.7, 1.0, 1.2, 2.7, 1.3, 0.5, 0.8, 1.5, 1.3, 3.0, 0.5, 1.4, 2.1, 0.8, 0.3, 1.0, 5.9, 4.5, 0.7, 0.5, 0.8, 3.1, 4.1, 0.3, 0.9, 1.1, 5.6, 1.0, 0.8, 1.0, 0.3, 0.9, 1.3, 1.4, 0.8, 1.6, 2.3, 0.3, 0.4, 0.2, 2.1, 1.0, 1.3, 0.1, 1.1, 0.3, 0.7, 0.8, 1.3, 0.4, 0.9, 1.3, 1.9, 1.5, 3.7, 0.4, 0.6, 1.8, 0.6, 0.4, 1.4, 0.6, 0.3, 0.2, 0.9, 0.2, 0.2, 0.5, 0.7, 0.5, 0.5, 4.4, 0.8, 0.2, 0.2, 0.4, 0.2, 1.1, 1.6, 1.1, 0.1, 0.1, 0.9, 0.8, 0.2, 0.2, 1.6, 2.3, 0.3, 0.1, 0.3, 0.4, 0.4, 1.3, 2.5, 0.3, 0.4, 0.8, 0.3, 0.5, 0.4, 0.2, 0.7, 0.6, 0.2, 1.0, 0.6, 0.8, 1.3, 2.0, 0.9, 1.1, 0.4, 0.5, 1.4, 0.5, 1.8, 0.9, 5.6, 1.7, 0.5, 1.3, 2.5, 1.5, 0.7, 0.4, 2.2, 1.7, 0.5, 2.3, 1.2, 0.6, 0.4, 0.8, 0.6, 0.4, 2.0, 0.4, 0.6, 0.8, 0.3, 1.0, 1.0, 0.3, 0.5, 0.4, 0.1, 0.8, 0.3, 0.3, 1.6, 0.9, 0.6, 2.3, 0.5, 0.6, 2.5, 1.8, 2.3, 1.0, 1.5, 0.6, 1.4, 1.7, 2.2, 1.3, 0.9, 0.6, 1.1, 1.1, 0.3, 1.1, 0.6, 0.4, 2.0, 1.0, 0.4, 1.6, 2.0, 1.2, 0.9, 0.3, 0.4, 0.6, 0.8, 1.1, 0.9, 1.0, 0.5, 2.3, 0.8, 1.1, 0.9, 0.6, 0.7, 1.0, 1.1, 1.2, 0.8, 1.3, 0.5, 0.5, 0.7, 2.2, 0.9, 1.4, 0.4, 1.4, 2.7, 1.2, 1.4, 1.8, 2.6, 1.0, 4.4, 1.1, 0.3, 1.5, 3.0, 2.2, 1.4, 0.3, 1.3, 1.4, 0.6, 0.3, 0.3, 1.4, 1.5, 0.1, 0.9, 0.8, 1.1, 0.2, 2.4, 3.1, 0.5, 0.7, 0.4, 0.8, 1.1, 1.7, 0.5, 1.4, 0.2, 1.3, 0.1, 0.2, 0.2, 0.8, 1.7, 0.1, 0.2, 0.6, 1.8, 0.7, 0.7, 3.4, 2.9, 0.5, 1.3, 0.8, 1.3, 1.3, 1.0, 0.7, 0.6, 0.1, 0.2, 0.2, 0.6, 1.0, 0.4, 0.2, 1.6, 0.2, 0.2, 0.8, 0.6, 0.5, 0.1, 0.2, 0.4, 0.4, 0.6, 0.2, 1.1, 0.2, 0.3, 0.2, 0.6, 0.8, 2.1, 0.3, 0.4, 0.4, 0.6, 0.5, 0.5, 0.3, 1.0, 0.4, 2.9, 1.8, 0.6, 0.3, 0.9, 1.6, 0.3, 0.1, 3.4, 3.2, 1.8, 5.7, 1.9, 2.0, 1.2, 0.7, 1.0, 0.9, 1.6, 1.0, 0.6, 0.8, 1.6, 1.6, 1.1, 0.4, 0.4, 0.4, 0.6, 0.5, 1.6, 2.0, 0.8, 2.1, 1.5, 3.2, 1.3, 0.1, 1.3, 1.4, 2.1, 0.5, 0.4, 1.4, 0.4, 1.3, 0.7, 0.9, 0.1, 0.3, 0.1, 0.5, 1.1, 0.4, 1.6, 2.3, 1.4, 0.4, 0.7, 0.3, 0.2, 0.3, 0.4, 0.6, 1.6, 0.3, 1.1, 1.6, 0.8, 1.6, 0.5, 0.5, 1.5, 0.9, 1.0, 0.8, 0.6, 1.0, 0.6, 1.3, 0.2, 2.7, 1.1, 1.6, 1.2, 0.3, 2.1, 0.6, 1.0, 1.2, 3.1, 1.8, 1.0, 0.7, 1.0, 0.2, 1.4, 0.7, 1.9, 1.3, 1.3, 0.4, 0.9, 1.9, 0.2, 1.3, 0.2, 0.1, 0.4, 2.1, 0.1, 0.2, 0.2, 0.5, 0.2, 0.1, 0.2, 2.0, 0.3, 0.8, 0.2, 1.8, 0.3, 1.4, 0.5, 0.1, 0.4, 1.0, 0.4, 0.6, 0.4, 1.6, 1.0, 2.8, 2.8, 0.2, 0.4, 0.5, 0.6, 1.0, 2.3, 2.3, 0.6, 1.2, 0.6, 0.6, 0.5, 0.5, 1.5, 0.1, 0.1, 0.1, 0.5, 0.1, 0.5, 0.3, 0.2, 0.6, 0.1, 0.4, 1.7, 1.1, 0.7, 1.5, 0.2, 0.3, 0.7, 0.3, 2.1, 0.3, 0.7, 1.4, 0.5, 0.3, 0.4, 2.1, 0.5, 1.2, 0.3, 0.8, 1.9, 0.1, 0.7, 0.1, 0.7, 0.6, 1.5, 0.8, 0.2, 0.4, 1.2, 1.2, 1.1, 0.3, 0.7, 0.9, 1.0, 0.5, 1.1, 0.8, 0.3, 1.4, 0.3, 1.4, 0.5, 0.3, 0.2, 0.3, 0.3, 0.8, 1.2, 0.5, 3.5, 1.8, 0.4, 4.1, 0.7, 0.7, 1.5, 0.7, 0.5, 0.5, 0.9, 1.1, 1.6, 1.0, 2.2, 0.6, 1.3, 0.8, 0.2, 0.2, 0.9, 1.2, 0.3, 0.5, 1.9, 0.6, 0.7, 1.5, 1.4, 0.7, 0.8, 2.0, 0.2, 2.2, 2.6, 1.9, 2.0, 1.2, 1.3, 1.5, 2.1, 1.7, 1.8, 2.0, 1.4, 0.5, 1.6, 1.5, 0.2, 0.6, 0.3, 2.2, 0.9, 2.8, 2.5, 2.7, 4.7, 0.7, 3.1, 0.4, 2.3, 0.1, 0.8, 0.8, 0.3, 1.3, 0.3, 0.3, 2.2, 1.2, 2.2, 0.7, 1.9, 0.6, 1.1, 0.4, 1.2, 0.5, 0.8, 1.0, 0.2, 0.8, 0.1, 0.6, 1.8, 3.9, 1.8, 1.3, 0.2, 0.4, 0.1, 0.4, 0.9, 2.2, 0.2, 1.9, 0.6, 0.5, 2.0, 2.8, 1.1, 1.1, 3.1, 3.4, 0.9, 0.3, 1.8, 0.8, 1.1, 1.4, 0.5, 2.0, 1.8, 0.5, 0.1, 0.2, 1.9, 0.1, 0.5, 1.1, 1.0, 0.2, 0.6, 1.5, 0.6, 0.1, 0.6, 0.1, 1.7, 0.3, 1.5, 1.7, 2.7, 0.2, 0.2, 0.6, 1.0, 0.9, 0.1, 0.2, 0.4, 0.7, 2.2, 1.8, 2.6, 1.5, 0.3, 0.4, 1.1, 1.0, 0.6, 0.8, 0.2, 0.1, 2.6, 1.2, 0.5, 0.7, 0.2, 1.5, 0.8, 1.7, 1.3, 1.1, 2.3, 2.7, 1.4, 2.4, 2.9, 0.7, 1.3, 0.4, 0.5, 1.2, 0.9, 1.2, 0.9, 0.2, 1.5, 0.4, 0.7, 1.1, 2.1, 1.5, 1.6, 1.6, 0.6, 1.1, 0.6, 1.1, 0.8, 1.3, 1.3, 1.3, 1.7, 1.6, 1.2, 1.7, 1.0, 0.6, 0.2, 0.2, 0.6, 1.9, 1.7, 0.8, 0.3, 0.5, 0.5, 1.2, 1.0, 1.2, 0.2, 0.2, 2.2, 0.9, 1.0, 0.4, 0.6, 1.9, 1.1, 0.8, 0.6, 1.1, 1.5, 1.0, 0.3, 1.5, 0.9, 1.1, 2.7, 3.3, 1.3, 1.7, 1.6, 1.1, 1.4, 0.1, 1.3, 0.4, 0.8, 0.8, 0.1, 3.2, 3.0, 0.2, 0.1, 0.4, 3.1, 0.4, 0.1, 4.5, 1.8, 2.1, 5.2, 1.8, 1.3, 0.7, 2.9, 1.2, 1.1, 0.6, 0.4, 0.3, 0.7, 0.9, 0.3, 1.6, 1.5, 1.3, 2.3, 0.8, 1.3, 1.4, 1.8, 0.3, 1.8, 1.9, 0.9, 0.4, 0.5, 1.3, 0.5, 0.8, 0.3, 0.1, 0.2, 0.8, 0.2, 3.8, 2.9, 1.7, 1.4, 0.7, 0.2, 1.1, 0.8, 2.7, 0.9, 0.6, 0.3, 0.5, 2.7, 2.6, 1.1, 2.4, 2.1, 0.2, 1.6, 0.9, 0.1, 0.5, 0.7, 1.4, 1.8, 0.4, 0.7, 0.7, 1.4, 2.4, 0.6, 0.1, 0.1, 0.7, 2.5, 3.0, 0.6, 0.4, 4.5, 1.9, 3.3, 3.5, 2.4, 1.8, 1.6, 0.3, 0.7, 0.6, 1.5, 0.6, 1.6, 0.9, 0.3, 1.3, 1.9, 0.4, 0.5, 0.2, 0.6, 0.5, 0.7, 0.2, 0.3, 2.2, 0.4, 0.5, 0.1, 0.8, 2.0, 0.3, 0.3, 1.3, 1.8, 2.1, 0.1, 2.3, 2.3, 1.4, 2.3, 2.5, 2.0, 1.0, 1.0, 1.5, 2.0, 1.8, 0.4, 1.9, 0.6, 0.3, 0.9, 0.4, 1.5, 0.6, 0.6, 2.1, 1.6, 1.7, 2.6, 2.8, 0.5, 2.6, 0.5, 2.7, 2.4, 0.9, 0.7, 0.9, 0.7, 2.4, 1.0, 1.3, 3.0, 1.2, 0.5, 1.0, 1.2, 0.6, 1.9, 0.1, 1.8, 1.5, 2.1, 0.7, 0.2, 1.0, 1.6, 2.2, 1.4, 0.6, 0.3, 1.3, 1.0, 1.6, 3.2, 1.2, 1.0, 0.3, 0.8, 1.7, 0.4, 0.3, 1.3, 1.2, 0.4, 0.8, 0.9, 1.1, 2.1, 1.3, 0.5, 2.7, 0.6, 1.6, 1.1, 1.0, 0.9, 1.1, 2.2, 1.8, 1.0, 1.7, 2.6, 1.6, 2.1, 0.6, 0.6, 1.3, 1.5, 0.7, 0.1, 0.9, 1.7, 0.8, 0.2, 1.3, 0.8, 1.6, 0.7, 1.1, 1.1, 0.3, 0.1, 0.3, 1.2, 1.4, 4.4, 0.6, 1.7, 2.6, 1.5, 0.4, 1.4, 1.6, 0.5, 0.7, 2.2, 1.6, 0.3, 0.8, 0.4, 3.3, 0.6, 0.7, 0.3, 1.3, 0.3, 0.6, 0.7, 2.7, 0.7, 2.9, 1.7, 1.3, 0.7, 1.0, 0.6, 0.5, 0.2, 1.3, 0.2, 0.2, 0.2, 0.2, 0.1, 0.4, 0.6, 0.7, 2.2, 2.4, 3.0, 2.5, 1.1, 2.1, 0.5, 0.1, 0.2, 1.1, 0.4, 1.3, 0.1, 0.7, 1.0, 0.9, 0.8, 1.1, 1.0, 0.2, 0.5, 4.1, 0.5, 0.5, 0.4, 1.6, 0.6, 0.2, 7.1, 3.9, 2.7, 0.3, 4.8, 1.5, 6.4, 3.2, 1.4, 1.2, 0.4, 3.4, 0.4, 0.7, 1.1, 1.6, 0.2, 0.3, 1.6, 1.7, 0.3, 1.1, 1.5, 0.7, 1.3, 1.6, 0.9, 1.5, 0.7, 1.0, 0.4, 0.6, 0.8, 1.2, 1.2, 0.8, 1.3, 4.8, 2.9, 2.6, 3.3, 1.6, 1.1, 2.0, 0.5, 0.6, 4.7, 3.9, 1.2, 3.4, 0.5, 0.5, 2.0, 1.9, 1.2, 0.2, 0.5, 0.8, 0.8, 1.0, 0.7, 1.8, 0.6, 0.9, 1.4, 0.6, 1.5, 1.8, 1.8, 2.7, 2.1, 1.1, 0.8, 0.5, 1.0, 0.5, 0.2, 0.1, 0.5, 2.9, 1.0, 0.4, 0.7, 0.6, 1.7, 0.4, 0.5, 3.9, 3.4, 0.8, 0.9, 0.9, 1.0, 1.0, 0.3, 5.9, 1.5, 0.9, 4.0, 1.0, 1.4, 2.2, 2.6, 1.6, 3.4, 1.5, 1.3, 1.7, 3.5, 0.6, 0.8, 0.6, 1.8, 2.0, 0.4, 0.4, 0.6, 0.4, 0.6, 0.3, 2.0, 1.0, 3.5, 5.1, 3.1, 0.1, 2.2, 3.8, 1.6, 0.9, 1.8, 0.2, 1.1, 1.5, 0.9, 1.8, 0.1, 1.0, 0.6, 0.3, 0.5, 1.2, 1.1, 0.9, 2.9, 3.1, 0.8, 3.7, 5.8, 2.4, 0.5, 2.2, 2.5, 1.1, 0.2, 0.5, 0.5, 0.3, 1.7, 1.4, 2.6, 0.3, 1.0, 0.1, 0.8, 1.0, 0.4, 0.4, 0.4, 0.3, 1.6, 0.8, 0.8, 0.2, 0.7, 1.4, 0.6, 0.9, 1.0, 0.5, 0.6, 2.3, 0.6, 0.4, 0.8, 0.2, 0.7, 0.9, 0.2, 0.7, 0.3, 0.5, 3.4, 4.3, 1.0, 0.7, 0.2, 2.0, 3.1, 1.5, 1.3, 1.7, 1.5, 0.5, 0.5, 0.9, 0.7, 1.0, 0.6, 0.3, 0.2, 1.3, 0.3, 0.5, 0.5, 0.3, 0.1, 1.4, 0.6, 1.4, 1.2, 0.5, 0.4, 0.6, 0.5, 1.0, 1.0, 0.7, 1.2, 0.8, 0.9, 1.8, 1.0, 1.6, 2.2, 1.1, 1.6, 0.7, 0.4, 0.7, 0.9, 2.0, 0.4, 0.1, 1.1, 0.2, 1.0, 1.1, 0.2, 0.2, 0.4, 0.3, 0.9, 0.9, 1.3, 1.2, 0.7, 0.4, 0.5, 0.8, 0.7, 0.6, 0.8, 0.6, 1.1, 0.3, 0.7, 1.8, 0.1, 0.2, 1.5, 2.5, 2.0, 1.1, 0.4, 0.9, 1.6, 0.4, 1.4, 0.7, 0.8, 1.5, 2.5, 2.4, 0.7, 2.8, 1.2, 2.7, 1.7, 1.2, 0.7, 3.7, 0.7, 0.9, 1.2, 0.5, 0.7, 0.4, 0.1, 0.2, 1.3, 0.8, 1.2, 0.6, 1.0, 2.6, 1.7, 3.1, 2.7, 1.8, 0.8, 1.9, 2.1, 0.9, 0.3, 0.4, 0.2, 0.2, 0.4, 0.6, 0.2, 0.8, 0.5, 1.0, 0.2, 0.4, 1.7, 1.5, 0.3, 0.4, 1.8, 0.8, 2.1, 0.1, 0.2, 0.6, 0.1, 0.1, 0.2, 0.1, 1.0, 0.2, 0.8, 0.6, 0.1, 1.0, 0.2, 1.1, 1.3, 0.1, 0.3, 1.8, 0.5, 0.2, 0.1, 0.5, 0.7, 0.1, 1.4, 0.5, 0.1, 0.4, 1.9, 2.1, 0.9, 1.2, 0.6, 2.0, 0.2, 2.3, 3.7, 0.7, 0.2, 0.5, 1.6, 0.9, 0.6, 2.0, 0.7, 2.5, 2.6, 0.7, 1.1, 0.8, 1.8, 0.5, 1.6, 0.7, 0.9, 1.6, 0.1, 0.7, 1.4, 0.9, 1.0, 1.1, 0.9, 0.3, 1.0, 0.2, 0.8, 0.4, 0.2, 0.4, 0.4, 1.2, 0.4, 3.3, 1.2, 0.9, 0.7, 1.6, 0.4, 0.2, 0.2, 1.1, 0.4, 0.5, 0.2, 1.0, 2.3, 1.9, 1.2, 2.4, 0.5, 0.2, 1.2, 0.9, 0.5, 1.3, 1.1, 0.9, 1.9, 2.5, 1.2, 0.6, 1.3, 1.1, 2.3, 0.9, 1.5, 2.0, 3.0, 1.8, 1.2, 0.5, 1.4, 0.2, 1.1, 1.2, 0.7, 0.6, 0.7, 1.3, 0.5, 1.2, 1.5, 2.8, 3.8, 2.4, 4.1, 1.4, 1.1, 0.4, 2.2, 0.6, 0.4, 1.5, 0.9, 0.8, 2.1, 2.0, 0.5, 3.9, 0.3, 0.8, 1.3, 2.5, 2.8, 0.4, 1.6, 0.4, 0.4, 0.8, 1.3, 1.1, 1.3, 0.2, 1.7, 0.6, 0.5, 0.4, 0.5, 1.6, 1.4, 2.2, 1.8, 0.7, 0.7, 0.3, 0.1, 0.7, 0.2, 0.2, 1.5, 1.4, 1.5, 0.3, 0.2, 0.6, 0.5, 1.2, 1.6, 0.4, 0.7, 0.5, 4.2, 2.8, 2.6, 0.5, 1.2, 0.7]\n"
     ]
    }
   ],
   "source": [
    "# this will pull out rainfall over 0.1mm in the ensemble data\n",
    "\n",
    "eArrayRainSig = [round(num,1) for num in ensemble_df_mean[\"rain\"] if num > 0.1]\n",
    "print(eArrayRainSig)"
   ]
  },
  {
   "cell_type": "code",
   "execution_count": 30,
   "metadata": {},
   "outputs": [
    {
     "name": "stdout",
     "output_type": "stream",
     "text": [
      "[1.2, 2.1, 11.0, 1.0, 1.5, 1.0, 6.0, 6.4, 0.6, 0.5, 0.4, 2.4, 0.5, 15.0, 0.4, 4.2, 3.5, 2.3, 4.3, 3.3, 0.8, 6.9, 0.5, 1.1, 5.1, 1.5, 0.6, 3.0, 0.4, 5.5, 0.5, 16.7, 0.6, 1.0, 0.8, 1.6, 0.4, 1.1, 0.2, 3.4, 1.8, 2.9, 0.5, 3.5, 0.9, 0.6, 1.8, 1.0, 2.5, 0.2, 5.7, 8.4, 2.9, 0.2, 4.2, 0.2, 3.2, 7.9, 0.9, 5.8, 2.4, 0.4, 1.3, 5.2, 1.1, 0.4, 6.8, 0.4, 17.1, 3.5, 1.0, 0.8, 5.8, 15.7, 0.5, 0.2, 5.3, 0.3, 7.5, 0.4, 0.3, 0.3, 0.2, 3.2, 7.0, 0.5, 0.2, 8.0, 0.4, 2.3, 10.3, 0.8, 0.2, 0.2, 7.7, 10.5, 0.3, 1.0, 6.3, 3.1, 0.8, 0.2, 5.5, 1.2, 0.3, 0.4, 3.4, 0.8, 4.6, 1.8, 0.3, 0.5, 1.0, 1.6, 1.5, 2.7, 0.5, 4.4, 1.4, 0.5, 2.6, 0.3, 1.1, 9.8, 3.0, 0.3, 0.5, 6.2, 7.5, 16.0, 1.0, 0.2, 6.2, 14.6, 0.7, 1.5, 7.3, 4.7, 0.6, 0.2, 0.3, 1.2, 8.1, 12.6, 0.5, 12.6, 0.5, 1.5, 5.8, 0.7, 0.3, 1.0, 1.5, 2.9, 3.2, 15.8, 21.9, 0.7, 7.7, 6.9, 3.0, 5.5, 1.4, 1.5, 2.2, 2.9, 0.3, 0.2, 0.3, 1.6, 2.9, 0.4, 5.4, 6.4, 0.2, 0.5, 2.9, 0.9, 4.8, 0.3, 4.0, 0.7, 0.7, 0.3, 4.5, 1.6, 0.9, 3.7, 7.0, 1.1, 6.2, 2.5, 1.7, 0.9, 1.6, 0.9, 0.8, 0.3, 22.3, 4.3, 3.3, 5.4, 1.8, 4.3, 1.5, 0.2, 6.4, 14.1, 3.6, 11.8, 1.2, 21.8, 7.9, 12.0, 0.4, 4.9, 18.5, 0.3, 3.9, 5.4, 7.2, 0.3, 2.7, 6.1, 2.7, 0.3, 0.6, 1.1, 7.4, 3.4, 2.0, 3.1, 4.1, 2.3, 4.6, 4.0, 4.9, 2.2, 0.9, 6.7, 16.0, 9.0, 0.8, 0.2, 0.3, 0.8, 0.9, 5.3, 0.2, 7.8, 1.5, 7.1, 0.3, 1.4, 6.7, 0.5, 0.2, 11.7, 14.1, 16.1, 1.9, 9.9, 1.1, 1.4, 13.3, 5.3, 15.1, 4.3, 0.3, 0.4, 8.5, 1.5, 4.9, 24.5, 0.2, 14.3, 4.3, 1.0, 0.7, 5.4, 11.6, 0.2, 0.2, 0.5, 1.7, 1.0, 0.4, 0.4, 2.1, 0.5, 1.6, 2.7, 2.6, 0.7, 18.5, 1.1, 0.3, 0.2, 2.1, 1.8, 2.8, 3.8, 4.0, 0.3, 0.3, 1.0, 0.3, 0.3, 0.4, 2.2, 5.9, 0.7, 0.2, 0.8, 0.3, 1.1, 6.9, 5.9, 0.3, 1.7, 1.2, 0.7, 0.9, 1.3, 2.3, 0.4, 1.1, 1.3, 6.1, 0.3, 0.7, 4.3, 4.4, 2.1, 0.2, 5.7, 1.1, 0.5, 12.2, 5.9, 0.9, 26.6, 25.6, 0.5, 4.9, 1.3, 5.7, 19.7, 8.3, 0.7, 14.3, 13.9, 15.5, 17.2, 9.2, 1.3, 0.4, 0.3, 3.3, 1.0, 1.8, 0.4, 1.6, 1.8, 0.3, 3.0, 1.6, 4.7, 4.1, 1.9, 0.2, 8.3, 0.6, 0.7, 3.7, 8.6, 1.5, 1.3, 0.7, 2.4, 0.2, 4.2, 0.3, 1.8, 1.7, 0.5, 0.5, 0.5, 4.2, 1.1, 0.3, 0.8, 0.3, 1.6, 3.1, 3.2, 0.6, 7.6, 1.7, 2.4, 0.3, 13.7, 1.0, 31.7, 31.2, 1.7, 1.4, 4.8, 1.9, 4.7, 4.0, 0.3, 1.9, 10.0, 1.0, 0.5, 0.7, 4.0, 17.1, 9.9, 4.7, 3.0, 1.1, 8.2, 0.2, 3.2, 0.9, 7.6, 0.8, 3.7, 18.6, 0.4, 1.8, 7.4, 0.9, 0.4, 1.1, 4.6, 0.4, 6.1, 0.4, 7.5, 5.1, 0.4, 1.1, 5.0, 2.3, 0.2, 7.8, 0.7, 2.1, 0.9, 3.6, 0.7, 0.5, 2.9, 0.2, 0.4, 1.4, 0.4, 8.9, 16.4, 2.2, 0.5, 3.9, 2.9, 0.5, 2.8, 10.5, 0.7, 1.0, 0.3, 3.8, 35.0, 4.0, 1.3, 1.7, 4.0, 15.2, 1.1, 0.2, 1.7, 13.9, 0.7, 12.7, 1.0, 0.5, 1.8, 10.1, 2.6, 0.2, 4.0, 2.7, 0.3, 7.4, 0.3, 1.4, 7.6, 7.6, 0.9, 1.1, 0.6, 3.5, 1.3, 0.9, 0.2, 3.2, 9.3, 7.9, 12.1, 5.4, 0.8, 2.7, 0.4, 1.5, 7.6, 18.7, 7.6, 1.5, 0.9, 4.2, 2.8, 1.4, 0.8, 1.1, 5.0, 7.6, 4.3, 1.4, 0.3, 16.9, 8.1, 0.2, 9.1, 8.2, 13.4, 1.4, 5.4, 0.6, 1.0, 0.3, 1.5, 0.7, 3.2, 9.1, 0.8, 4.2, 1.1, 0.8, 0.3, 1.1, 1.8, 4.8, 0.8, 0.2, 3.1, 3.3, 0.7, 7.0, 0.2, 13.5, 1.3, 8.4, 1.2, 3.4, 0.3, 4.2, 1.6, 1.5, 1.8, 1.1, 1.7, 1.7, 2.0, 1.0, 5.8, 3.9, 0.3, 1.0, 4.0, 3.6, 12.9, 0.9, 1.3, 0.4, 6.9, 0.9, 0.9, 0.4, 1.5, 2.6, 2.1, 0.6, 2.2, 2.2, 2.6, 4.2, 32.1, 2.7, 2.1, 6.5, 6.0, 3.5, 0.2, 4.3, 0.9, 0.6, 9.3, 1.4, 0.5, 4.3, 1.2, 0.2, 4.1, 0.5, 0.8, 5.0, 5.6, 1.6, 2.5, 13.6, 1.5, 0.8, 2.5, 0.2, 3.9, 8.6, 35.6, 9.9, 3.1, 0.3, 5.4, 13.3, 11.3, 3.8, 2.3, 0.3, 2.8, 3.5, 1.1, 2.1, 5.2, 29.1, 1.7, 6.5, 0.5, 4.1, 3.6, 3.2, 0.3, 2.4, 3.0, 1.0, 0.4, 1.7, 1.5, 0.7, 1.3, 6.7, 0.3, 1.0, 3.0, 0.2, 0.5, 0.5, 0.8, 0.9, 8.4, 3.3, 0.3, 4.3, 0.3, 13.4, 2.9, 3.8, 0.2, 0.4, 8.6, 1.2, 0.4, 0.7, 1.0, 0.3, 3.0, 2.0, 6.5, 1.6, 3.8, 2.5, 0.8, 0.4, 5.6, 0.4, 2.7, 24.9, 3.0, 4.0, 0.3, 3.1, 0.7, 0.2, 0.7, 5.3, 1.3, 0.8, 4.9, 6.2, 24.8, 0.5, 4.7, 28.8, 0.3, 3.5, 1.7, 0.3, 1.1, 0.2, 1.2, 1.0, 0.4, 3.2, 11.4, 0.2, 3.5, 5.1, 0.9, 0.4, 1.2, 0.2, 0.3, 2.0, 15.0, 1.8, 0.6, 18.8, 0.2, 0.8, 0.3, 0.6, 2.0, 5.4, 3.9, 4.1, 3.0, 1.9, 7.6, 0.6, 9.2, 8.3, 0.4, 1.6, 3.1, 7.6, 6.8, 1.4, 0.3, 15.1, 0.6, 1.2, 0.3, 0.3, 2.6, 1.0, 10.0, 3.6, 1.0, 1.6, 0.6, 2.5, 10.1, 4.8, 5.6, 0.7, 4.4, 0.7, 12.8, 0.5, 1.1, 0.2, 0.4, 0.3, 0.5, 0.2, 2.8, 1.2, 13.2, 1.4, 5.0, 0.5, 3.4, 3.5, 1.0, 0.6, 1.1, 0.7, 0.5, 0.2, 0.2, 0.2, 0.3, 5.0, 1.6, 0.5, 0.2, 1.7, 8.9, 0.2, 1.0, 0.2, 4.2, 2.7, 0.2, 0.2, 7.5, 1.3, 0.3, 0.6, 2.4, 4.3, 3.7, 2.4, 5.0, 3.3, 1.3, 7.7, 7.9, 1.2, 3.6, 1.3, 2.0, 8.7, 4.9, 7.4, 4.9, 0.8, 1.5, 19.5, 0.2, 1.7, 1.5, 3.4, 8.4, 3.0, 4.8, 0.6, 1.2, 0.6, 0.2, 6.2, 0.3, 5.3, 3.6, 2.3, 5.2, 16.2, 0.2, 0.2, 6.0, 2.2, 0.6, 0.4, 0.3, 1.5, 7.8, 2.1, 0.9, 0.3, 0.3, 0.7, 0.2, 1.3, 9.7, 0.5, 5.0, 4.1, 0.2, 7.1, 0.4, 2.9, 2.9, 1.5, 3.5, 0.3, 5.7, 7.3, 7.1, 1.9, 1.2, 17.2, 1.9, 0.7, 2.0, 0.2, 3.6, 0.8, 0.3, 0.3, 0.9, 0.2, 5.9, 0.4, 0.3, 0.9, 1.8, 0.5, 18.1, 3.8, 0.3, 0.5, 3.6, 4.2, 2.1, 8.5, 0.7, 8.9, 0.8, 0.5, 0.3, 1.1, 3.9, 10.6, 1.5, 0.2, 9.1, 6.5, 3.2, 0.2, 0.3, 2.0, 6.8, 7.3, 1.2, 1.9, 5.1, 3.1, 12.1, 2.0, 15.2, 7.6, 5.7, 5.8, 4.6, 8.9, 2.5, 5.4, 4.3, 3.8, 6.1, 1.4, 0.2, 2.3, 4.4, 0.3, 2.2, 14.2, 0.4, 2.3, 0.5, 10.6, 1.3, 1.3, 2.3, 3.0, 0.3, 1.3, 15.1, 7.6, 2.3, 0.7, 10.7, 8.6, 2.0, 14.2, 1.2, 0.5, 5.7, 1.4, 4.0, 0.3, 15.1, 0.7, 4.1, 5.2, 0.8, 5.8, 3.4, 0.3, 1.5, 15.9, 6.8, 6.9, 1.4, 0.3, 1.3, 1.2, 1.3, 25.7, 1.3, 0.2, 2.0, 5.6, 1.7, 7.7, 16.3, 2.3, 1.8, 4.5, 13.2, 9.8, 7.1, 0.6, 0.7, 3.1, 1.0, 11.6, 0.7, 11.2, 1.3, 3.6, 2.0, 1.5, 1.8, 0.4, 8.5, 1.2, 1.0, 0.3, 4.7, 0.2, 0.2, 0.4, 1.8, 1.4, 1.0, 1.9, 0.2, 1.0, 4.8, 2.4, 0.8, 3.9, 0.5, 12.9, 6.8, 3.9, 2.6, 1.4, 1.9, 16.0, 1.6, 0.8, 0.2, 3.0, 0.6, 8.5, 3.6, 2.5, 5.3, 2.4, 0.3, 3.3, 2.4, 1.5, 2.6, 3.3, 1.8, 1.1, 4.6, 8.1, 1.7, 12.3, 2.2, 5.0, 0.2, 3.0, 5.2, 3.7, 3.1, 5.7, 0.6, 0.5, 24.1, 4.6, 6.1, 3.4, 7.5, 2.4, 6.2, 1.7, 0.4, 0.2, 0.8, 2.6, 3.2, 3.3, 6.3, 9.1, 2.3, 0.3, 7.9, 2.1, 0.4, 1.1, 6.0, 1.8, 3.5, 1.4, 0.2, 6.5, 3.1, 11.2, 6.7, 0.2, 2.1, 2.2, 3.4, 6.5, 23.7, 5.4, 1.7, 5.3, 0.3, 2.1, 8.1, 5.3, 4.6, 7.3, 2.6, 0.3, 1.9, 1.7, 1.3, 0.6, 0.2, 2.7, 1.7, 1.7, 0.6, 4.6, 7.9, 4.7, 0.2, 2.6, 1.2, 1.0, 2.6, 2.0, 0.9, 6.1, 5.5, 8.6, 14.3, 0.8, 10.0, 0.4, 12.5, 2.0, 0.5, 1.4, 4.7, 8.9, 1.2, 1.5, 2.4, 39.8, 5.0, 2.3, 1.8, 0.3, 6.6, 4.9, 2.8, 15.9, 3.9, 5.6, 12.2, 15.8, 6.8, 1.6, 0.7, 1.4, 1.9, 5.6, 4.0, 12.1, 2.5, 1.6, 0.8, 0.4, 0.9, 7.2, 0.7, 0.9, 4.1, 2.5, 0.5, 3.6, 0.8, 0.6, 3.0, 1.6, 2.3, 7.8, 2.9, 6.1, 5.3, 1.2, 17.1, 0.8, 5.4, 8.0, 0.8, 1.3, 1.3, 17.9, 2.5, 11.7, 2.6, 0.8, 5.0, 12.0, 0.7, 5.6, 0.5, 0.9, 0.3, 1.1, 14.5, 0.9, 7.4, 0.6, 5.3, 10.2, 0.7, 0.2, 5.8, 1.4, 14.0, 16.4, 0.6, 10.2, 0.8, 0.8, 3.2, 3.6, 2.9, 0.7, 3.1, 4.2, 4.7, 1.0, 1.8, 2.0, 9.1, 1.1, 1.3, 4.8, 4.5, 0.7, 0.2, 2.9, 9.4, 2.8, 2.1, 0.2, 0.3, 0.4, 3.0]\n"
     ]
    }
   ],
   "source": [
    "# this will pull out rainfall over 0.1mm in the silo data\n",
    "\n",
    "sArrayRainSig = [round(num,1) for num in silo216_df[\"rain\"] if num > 0.1]\n",
    "print(sArrayRainSig)"
   ]
  },
  {
   "cell_type": "code",
   "execution_count": 38,
   "metadata": {},
   "outputs": [
    {
     "data": {
      "text/plain": [
       "<matplotlib.legend.Legend at 0x1d83eee8ef0>"
      ]
     },
     "execution_count": 38,
     "metadata": {},
     "output_type": "execute_result"
    },
    {
     "data": {
      "image/png": "[encoded data removed]",
      "text/plain": [
       "<Figure size 432x288 with 1 Axes>"
      ]
     },
     "metadata": {},
     "output_type": "display_data"
    }
   ],
   "source": [
    "# plots the density for rainfall above 0.1mm\n",
    "\n",
    "sns.distplot(eArrayRainSig, color=\"red\", label = \"ensemble\")\n",
    "sns.distplot(sArrayRainSig, color=\"green\", label = \"silo\")\n",
    "plt.legend()"
   ]
  },
  {
   "cell_type": "code",
   "execution_count": 39,
   "metadata": {},
   "outputs": [
    {
     "data": {
      "text/plain": [
       "<matplotlib.legend.Legend at 0x1d83ef3ec18>"
      ]
     },
     "execution_count": 39,
     "metadata": {},
     "output_type": "execute_result"
    },
    {
     "data": {
      "image/png": "[encoded data removed]",
      "text/plain": [
       "<Figure size 432x288 with 1 Axes>"
      ]
     },
     "metadata": {},
     "output_type": "display_data"
    }
   ],
   "source": [
    "# plots the density for rainfall above 0.1mm with a normal distribution\n",
    "sns.distplot( eArrayRainSig, color=\"red\", label = \"ensemble\", norm_hist = \"true\")\n",
    "sns.distplot( sArrayRainSig, color=\"green\", label = \"silo\", norm_hist = \"true\")\n",
    "\n",
    "plt.legend()"
   ]
  },
  {
   "cell_type": "code",
   "execution_count": 33,
   "metadata": {},
   "outputs": [
    {
     "data": {
      "text/plain": [
       "<matplotlib.legend.Legend at 0x1d83e916eb8>"
      ]
     },
     "execution_count": 33,
     "metadata": {},
     "output_type": "execute_result"
    },
    {
     "data": {
      "image/png": "[encoded data removed]",
      "text/plain": [
       "<Figure size 432x288 with 1 Axes>"
      ]
     },
     "metadata": {},
     "output_type": "display_data"
    }
   ],
   "source": [
    "# use any of the variables as input for the plot\n",
    "# if the variable is \"rain\" then we only want to use the values that are greater than 0.1\n",
    "variable = \"rain\"\n",
    "\n",
    "if variable == \"rain\":\n",
    "    eArray = [num for num in ensemble_df_mean[variable] if num > 0.1]\n",
    "    sArray = [num for num in silo216_df[variable] if num > 0.1]\n",
    "else:\n",
    "    earray = ensemble_df_mean[variable]\n",
    "    sarray = silo_df[variable]\n",
    "    \n",
    "sns.distplot( eArray, color=\"red\", label = \"ensemble\")\n",
    "sns.distplot( sArray, color=\"green\", label = \"silo\")\n",
    "plt.legend()"
   ]
  },
  {
   "cell_type": "code",
   "execution_count": 34,
   "metadata": {},
   "outputs": [
    {
     "data": {
      "text/plain": [
       "<matplotlib.legend.Legend at 0x1d83eba9748>"
      ]
     },
     "execution_count": 34,
     "metadata": {},
     "output_type": "execute_result"
    },
    {
     "data": {
      "image/png": "[encoded data removed]",
      "text/plain": [
       "<Figure size 432x288 with 1 Axes>"
      ]
     },
     "metadata": {},
     "output_type": "display_data"
    }
   ],
   "source": [
    "#label the axes and give the graph a name\n",
    "\n",
    "fig, ax = plt.subplots()\n",
    "sns.distplot( eArray, color=\"red\", label = \"ensembl\")\n",
    "sns.distplot( sArray, color=\"green\", label = \"silo\")\n",
    "\n",
    "ax.set_xlim(-5,50)\n",
    "ax.set(xlabel='Rainfall', ylabel='Density')\n",
    "\n",
    "plt.title(\"Rainfall histogram\")\n",
    "\n",
    "plt.legend()"
   ]
  },
  {
   "cell_type": "code",
   "execution_count": 35,
   "metadata": {},
   "outputs": [
    {
     "data": {
      "text/plain": [
       "<matplotlib.legend.Legend at 0x1d83e0266d8>"
      ]
     },
     "execution_count": 35,
     "metadata": {},
     "output_type": "execute_result"
    },
    {
     "data": {
      "image/png": "[encoded data removed]",
      "text/plain": [
       "<Figure size 432x288 with 1 Axes>"
      ]
     },
     "metadata": {},
     "output_type": "display_data"
    }
   ],
   "source": [
    "## rewrite the code to be able to use any of the variables in the datasets \n",
    "\n",
    "variable = \"rain\"\n",
    "\n",
    "if variable == \"rain\":\n",
    "    eArray = [num for num in ensemble_df_mean[variable] if num > 0.1]\n",
    "    sArray = [num for num in silo216_df[variable] if num > 0.1]\n",
    "else:\n",
    "    earray = ensemble_df_mean[variable]\n",
    "    sarray = silo216_df[variable]\n",
    "\n",
    "fig, ax = plt.subplots()\n",
    "sns.distplot( eArray, color=\"red\", label = \"ensembl\")\n",
    "sns.distplot( sArray, color=\"green\", label = \"silo\")\n",
    "\n",
    "ax.set_xlim(-5,50)\n",
    "ax.set(xlabel = variable, ylabel='Density')\n",
    "\n",
    "plt.title(variable + \" histogram\")\n",
    "\n",
    "plt.legend()"
   ]
  },
  {
   "cell_type": "code",
   "execution_count": 37,
   "metadata": {},
   "outputs": [
    {
     "data": {
      "text/plain": [
       "<matplotlib.legend.Legend at 0x1d83ebd3c88>"
      ]
     },
     "execution_count": 37,
     "metadata": {},
     "output_type": "execute_result"
    },
    {
     "data": {
      "image/png": "[encoded data removed]",
      "text/plain": [
       "<Figure size 432x288 with 1 Axes>"
      ]
     },
     "metadata": {},
     "output_type": "display_data"
    }
   ],
   "source": [
    "# run the code with a different variable\n",
    "\n",
    "variable = \"tmax\"\n",
    "\n",
    "if variable == \"rain\":\n",
    "    eArray = [num for num in ensemble_df_mean[variable] if num > 0.1]\n",
    "    sArray = [num for num in silo216_df[variable] if num > 0.1]\n",
    "else:\n",
    "    eArray = ensemble_df_mean[variable]\n",
    "    sArray = silo216_df[variable]\n",
    "    \n",
    "#sns.distplot( eArray, color=\"red\", label = \"ensembl\")\n",
    "#sns.distplot( sArray, color=\"green\", label = \"silo\")\n",
    "#plt.legend()\n",
    "\n",
    "fig, ax = plt.subplots()\n",
    "sns.distplot( eArray, color=\"red\", label = \"ensembl\")\n",
    "sns.distplot( sArray, color=\"green\", label = \"silo\")\n",
    "\n",
    "ax.set_xlim(-5,50)\n",
    "ax.set(xlabel = variable, ylabel='Density')\n",
    "\n",
    "plt.title(variable + \" histogram\")\n",
    "\n",
    "plt.legend()"
   ]
  },
  {
   "cell_type": "code",
   "execution_count": null,
   "metadata": {},
   "outputs": [],
   "source": [
    "# Calculate ensemble performance metrics (based on http://www.cawcr.gov.au/projects/verification/)\n",
    "# We won't use correlation as we're not interested in predicting daily weather but the actual pattern of climate\n",
    "fcast_vs_obs = ensemble_df_mean.merge(silo216_df, on= 'date')\n",
    "\n",
    "fcast_vs_obs.rename(columns = {\"date\":\"date\", \"ens\":\"ens\", \"rad_x\":\"rad.fcast\",\"tmax_x\":\"tmax.fcast\",\"rain_x\":\"rain.fcast\",\"tmin_x\":\"tmin.fcast\",\"rad_y\":\"rad.obs\",\"tmax_y\":\"tmax.obs\",\"tmin_y\":\"tmin.obs\",\"rain_y\":\"rain.obs\",\"vp\":\"vp.obs\",\"evap\":\"evap.obs\"}, inplace=True)"
   ]
  },
  {
   "cell_type": "code",
   "execution_count": null,
   "metadata": {},
   "outputs": [],
   "source": [
    "# Mean error - Answers the question: What is the average forecast error?\n",
    "# We don't really want this for AgScore but it's informative\n",
    "fcast_vs_obs[\"error\"] = fcast_vs_obs[\"rain.fcast\"] - fcast_vs_obs[\"rain.obs\"]\n",
    "mean_error = fcast_vs_obs[\"error\"].mean()\n",
    "print (mean_error)"
   ]
  },
  {
   "cell_type": "code",
   "execution_count": null,
   "metadata": {},
   "outputs": [],
   "source": [
    "# Multiplicative bias - Answers the question: How does the average forecast magnitude compare to the average observed magnitude?\n",
    "# Bias = mean of forecast divided by mean of observations\n",
    "bias = fcast_vs_obs[\"rain.fcast\"].mean() / fcast_vs_obs[\"rain.obs\"].mean()\n",
    "print (bias)\n",
    "\n",
    "# Next, we need more metrics..."
   ]
  },
  {
   "cell_type": "code",
   "execution_count": null,
   "metadata": {},
   "outputs": [],
   "source": []
  },
  {
   "cell_type": "markdown",
   "metadata": {},
   "source": []
  }
 ],
 "metadata": {
  "kernelspec": {
   "display_name": "Python 3",
   "language": "python",
   "name": "python3"
  },
  "language_info": {
   "codemirror_mode": {
    "name": "ipython",
    "version": 3
   },
   "file_extension": ".py",
   "mimetype": "text/x-python",
   "name": "python",
   "nbconvert_exporter": "python",
   "pygments_lexer": "ipython3",
   "version": "3.7.1"
  }
 },
 "nbformat": 4,
 "nbformat_minor": 2
}
